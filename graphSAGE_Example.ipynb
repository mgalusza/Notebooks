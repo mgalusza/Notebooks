{
  "nbformat": 4,
  "nbformat_minor": 0,
  "metadata": {
    "colab": {
      "name": "graphSAGE_Example.ipynb",
      "provenance": [],
      "include_colab_link": true
    },
    "kernelspec": {
      "name": "python3",
      "display_name": "Python 3"
    }
  },
  "cells": [
    {
      "cell_type": "markdown",
      "metadata": {
        "id": "view-in-github",
        "colab_type": "text"
      },
      "source": [
        "<a href=\"https://colab.research.google.com/github/mgalusza/Notebooks/blob/master/graphSAGE_Example.ipynb\" target=\"_parent\"><img src=\"https://colab.research.google.com/assets/colab-badge.svg\" alt=\"Open In Colab\"/></a>"
      ]
    },
    {
      "cell_type": "code",
      "metadata": {
        "id": "aCmbmm4ghUsw",
        "colab_type": "code",
        "outputId": "4e3c8811-da96-4f7c-bb4b-c8380e6780c3",
        "colab": {
          "base_uri": "https://localhost:8080/",
          "height": 34
        }
      },
      "source": [
        "from google.colab import drive\n",
        "drive.mount('/content/gdrive')"
      ],
      "execution_count": 9,
      "outputs": [
        {
          "output_type": "stream",
          "text": [
            "Drive already mounted at /content/gdrive; to attempt to forcibly remount, call drive.mount(\"/content/gdrive\", force_remount=True).\n"
          ],
          "name": "stdout"
        }
      ]
    },
    {
      "cell_type": "code",
      "metadata": {
        "id": "npCfGXKph_NN",
        "colab_type": "code",
        "outputId": "b57011bd-b663-4a96-a221-76a44e72443b",
        "colab": {
          "base_uri": "https://localhost:8080/",
          "height": 34
        }
      },
      "source": [
        "cd /content/gdrive/My Drive/ML\n"
      ],
      "execution_count": 51,
      "outputs": [
        {
          "output_type": "stream",
          "text": [
            "/content/gdrive/My Drive/ML\n"
          ],
          "name": "stdout"
        }
      ]
    },
    {
      "cell_type": "code",
      "metadata": {
        "id": "JkeqO5d_5RFo",
        "colab_type": "code",
        "colab": {
          "base_uri": "https://localhost:8080/",
          "height": 119
        },
        "outputId": "d9b97837-4e50-4529-f3eb-21af1ba065df"
      },
      "source": [
        "ls -la"
      ],
      "execution_count": 54,
      "outputs": [
        {
          "output_type": "stream",
          "text": [
            "total 7720\n",
            "-rw------- 1 root root   69928 Feb 18  2007 cora.cites\n",
            "-rw------- 1 root root 7823427 Feb 18  2007 cora.content\n",
            "-rw------- 1 root root    5097 Nov 10 18:29 Dam_Edge_List.csv\n",
            "-rw------- 1 root root    3120 Nov 10 19:46 Dam_Node_Word.csv\n",
            "-rw------- 1 root root    1560 Feb 18  2007 README\n"
          ],
          "name": "stdout"
        }
      ]
    },
    {
      "cell_type": "code",
      "metadata": {
        "id": "Hv1igdX5iMSU",
        "colab_type": "code",
        "outputId": "90bcfe2e-8a97-4239-ed05-4dd12a7e270d",
        "colab": {
          "base_uri": "https://localhost:8080/",
          "height": 1000
        }
      },
      "source": [
        "!pip install stellargraph"
      ],
      "execution_count": 3,
      "outputs": [
        {
          "output_type": "stream",
          "text": [
            "Collecting stellargraph\n",
            "\u001b[?25l  Downloading https://files.pythonhosted.org/packages/22/48/8e08d6442948b8bb49391aa421a5f5e295c4360c3b8c28d3f1f8a6030e8e/stellargraph-0.8.2-py3-none-any.whl (147kB)\n",
            "\r\u001b[K     |██▏                             | 10kB 11.8MB/s eta 0:00:01\r\u001b[K     |████▍                           | 20kB 7.7MB/s eta 0:00:01\r\u001b[K     |██████▋                         | 30kB 10.6MB/s eta 0:00:01\r\u001b[K     |████████▉                       | 40kB 6.4MB/s eta 0:00:01\r\u001b[K     |███████████                     | 51kB 7.6MB/s eta 0:00:01\r\u001b[K     |█████████████▎                  | 61kB 8.8MB/s eta 0:00:01\r\u001b[K     |███████████████▌                | 71kB 9.9MB/s eta 0:00:01\r\u001b[K     |█████████████████▊              | 81kB 11.0MB/s eta 0:00:01\r\u001b[K     |████████████████████            | 92kB 12.1MB/s eta 0:00:01\r\u001b[K     |██████████████████████▏         | 102kB 10.2MB/s eta 0:00:01\r\u001b[K     |████████████████████████▍       | 112kB 10.2MB/s eta 0:00:01\r\u001b[K     |██████████████████████████▋     | 122kB 10.2MB/s eta 0:00:01\r\u001b[K     |████████████████████████████▉   | 133kB 10.2MB/s eta 0:00:01\r\u001b[K     |███████████████████████████████ | 143kB 10.2MB/s eta 0:00:01\r\u001b[K     |████████████████████████████████| 153kB 10.2MB/s \n",
            "\u001b[?25hRequirement already satisfied: numpy>=1.14 in /usr/local/lib/python3.6/dist-packages (from stellargraph) (1.17.3)\n",
            "Requirement already satisfied: scipy>=1.1.0 in /usr/local/lib/python3.6/dist-packages (from stellargraph) (1.3.1)\n",
            "Collecting networkx<2.4,>=2.2\n",
            "\u001b[?25l  Downloading https://files.pythonhosted.org/packages/85/08/f20aef11d4c343b557e5de6b9548761811eb16e438cee3d32b1c66c8566b/networkx-2.3.zip (1.7MB)\n",
            "\u001b[K     |████████████████████████████████| 1.8MB 38.6MB/s \n",
            "\u001b[?25hRequirement already satisfied: gensim>=3.4.0 in /usr/local/lib/python3.6/dist-packages (from stellargraph) (3.6.0)\n",
            "Requirement already satisfied: scikit-learn>=0.20 in /usr/local/lib/python3.6/dist-packages (from stellargraph) (0.21.3)\n",
            "Requirement already satisfied: pandas>=0.24 in /usr/local/lib/python3.6/dist-packages (from stellargraph) (0.25.3)\n",
            "Collecting tensorflow<1.15,>=1.14\n",
            "\u001b[?25l  Downloading https://files.pythonhosted.org/packages/de/f0/96fb2e0412ae9692dbf400e5b04432885f677ad6241c088ccc5fe7724d69/tensorflow-1.14.0-cp36-cp36m-manylinux1_x86_64.whl (109.2MB)\n",
            "\u001b[K     |████████████████████████████████| 109.2MB 92kB/s \n",
            "\u001b[?25hRequirement already satisfied: matplotlib>=2.2 in /usr/local/lib/python3.6/dist-packages (from stellargraph) (3.1.1)\n",
            "Requirement already satisfied: decorator>=4.3.0 in /usr/local/lib/python3.6/dist-packages (from networkx<2.4,>=2.2->stellargraph) (4.4.1)\n",
            "Requirement already satisfied: six>=1.5.0 in /usr/local/lib/python3.6/dist-packages (from gensim>=3.4.0->stellargraph) (1.12.0)\n",
            "Requirement already satisfied: smart-open>=1.2.1 in /usr/local/lib/python3.6/dist-packages (from gensim>=3.4.0->stellargraph) (1.8.4)\n",
            "Requirement already satisfied: joblib>=0.11 in /usr/local/lib/python3.6/dist-packages (from scikit-learn>=0.20->stellargraph) (0.14.0)\n",
            "Requirement already satisfied: python-dateutil>=2.6.1 in /usr/local/lib/python3.6/dist-packages (from pandas>=0.24->stellargraph) (2.6.1)\n",
            "Requirement already satisfied: pytz>=2017.2 in /usr/local/lib/python3.6/dist-packages (from pandas>=0.24->stellargraph) (2018.9)\n",
            "Requirement already satisfied: gast>=0.2.0 in /usr/local/lib/python3.6/dist-packages (from tensorflow<1.15,>=1.14->stellargraph) (0.2.2)\n",
            "Requirement already satisfied: wrapt>=1.11.1 in /usr/local/lib/python3.6/dist-packages (from tensorflow<1.15,>=1.14->stellargraph) (1.11.2)\n",
            "Collecting tensorboard<1.15.0,>=1.14.0\n",
            "\u001b[?25l  Downloading https://files.pythonhosted.org/packages/91/2d/2ed263449a078cd9c8a9ba50ebd50123adf1f8cfbea1492f9084169b89d9/tensorboard-1.14.0-py3-none-any.whl (3.1MB)\n",
            "\u001b[K     |████████████████████████████████| 3.2MB 35.8MB/s \n",
            "\u001b[?25hRequirement already satisfied: grpcio>=1.8.6 in /usr/local/lib/python3.6/dist-packages (from tensorflow<1.15,>=1.14->stellargraph) (1.15.0)\n",
            "Requirement already satisfied: astor>=0.6.0 in /usr/local/lib/python3.6/dist-packages (from tensorflow<1.15,>=1.14->stellargraph) (0.8.0)\n",
            "Requirement already satisfied: termcolor>=1.1.0 in /usr/local/lib/python3.6/dist-packages (from tensorflow<1.15,>=1.14->stellargraph) (1.1.0)\n",
            "Requirement already satisfied: keras-preprocessing>=1.0.5 in /usr/local/lib/python3.6/dist-packages (from tensorflow<1.15,>=1.14->stellargraph) (1.1.0)\n",
            "Requirement already satisfied: absl-py>=0.7.0 in /usr/local/lib/python3.6/dist-packages (from tensorflow<1.15,>=1.14->stellargraph) (0.8.1)\n",
            "Collecting tensorflow-estimator<1.15.0rc0,>=1.14.0rc0\n",
            "\u001b[?25l  Downloading https://files.pythonhosted.org/packages/3c/d5/21860a5b11caf0678fbc8319341b0ae21a07156911132e0e71bffed0510d/tensorflow_estimator-1.14.0-py2.py3-none-any.whl (488kB)\n",
            "\u001b[K     |████████████████████████████████| 491kB 52.0MB/s \n",
            "\u001b[?25hRequirement already satisfied: wheel>=0.26 in /usr/local/lib/python3.6/dist-packages (from tensorflow<1.15,>=1.14->stellargraph) (0.33.6)\n",
            "Requirement already satisfied: keras-applications>=1.0.6 in /usr/local/lib/python3.6/dist-packages (from tensorflow<1.15,>=1.14->stellargraph) (1.0.8)\n",
            "Requirement already satisfied: google-pasta>=0.1.6 in /usr/local/lib/python3.6/dist-packages (from tensorflow<1.15,>=1.14->stellargraph) (0.1.7)\n",
            "Requirement already satisfied: protobuf>=3.6.1 in /usr/local/lib/python3.6/dist-packages (from tensorflow<1.15,>=1.14->stellargraph) (3.10.0)\n",
            "Requirement already satisfied: cycler>=0.10 in /usr/local/lib/python3.6/dist-packages (from matplotlib>=2.2->stellargraph) (0.10.0)\n",
            "Requirement already satisfied: pyparsing!=2.0.4,!=2.1.2,!=2.1.6,>=2.0.1 in /usr/local/lib/python3.6/dist-packages (from matplotlib>=2.2->stellargraph) (2.4.2)\n",
            "Requirement already satisfied: kiwisolver>=1.0.1 in /usr/local/lib/python3.6/dist-packages (from matplotlib>=2.2->stellargraph) (1.1.0)\n",
            "Requirement already satisfied: boto>=2.32 in /usr/local/lib/python3.6/dist-packages (from smart-open>=1.2.1->gensim>=3.4.0->stellargraph) (2.49.0)\n",
            "Requirement already satisfied: boto3 in /usr/local/lib/python3.6/dist-packages (from smart-open>=1.2.1->gensim>=3.4.0->stellargraph) (1.10.7)\n",
            "Requirement already satisfied: requests in /usr/local/lib/python3.6/dist-packages (from smart-open>=1.2.1->gensim>=3.4.0->stellargraph) (2.21.0)\n",
            "Requirement already satisfied: werkzeug>=0.11.15 in /usr/local/lib/python3.6/dist-packages (from tensorboard<1.15.0,>=1.14.0->tensorflow<1.15,>=1.14->stellargraph) (0.16.0)\n",
            "Requirement already satisfied: markdown>=2.6.8 in /usr/local/lib/python3.6/dist-packages (from tensorboard<1.15.0,>=1.14.0->tensorflow<1.15,>=1.14->stellargraph) (3.1.1)\n",
            "Requirement already satisfied: setuptools>=41.0.0 in /usr/local/lib/python3.6/dist-packages (from tensorboard<1.15.0,>=1.14.0->tensorflow<1.15,>=1.14->stellargraph) (41.4.0)\n",
            "Requirement already satisfied: h5py in /usr/local/lib/python3.6/dist-packages (from keras-applications>=1.0.6->tensorflow<1.15,>=1.14->stellargraph) (2.8.0)\n",
            "Requirement already satisfied: jmespath<1.0.0,>=0.7.1 in /usr/local/lib/python3.6/dist-packages (from boto3->smart-open>=1.2.1->gensim>=3.4.0->stellargraph) (0.9.4)\n",
            "Requirement already satisfied: botocore<1.14.0,>=1.13.7 in /usr/local/lib/python3.6/dist-packages (from boto3->smart-open>=1.2.1->gensim>=3.4.0->stellargraph) (1.13.7)\n",
            "Requirement already satisfied: s3transfer<0.3.0,>=0.2.0 in /usr/local/lib/python3.6/dist-packages (from boto3->smart-open>=1.2.1->gensim>=3.4.0->stellargraph) (0.2.1)\n",
            "Requirement already satisfied: urllib3<1.25,>=1.21.1 in /usr/local/lib/python3.6/dist-packages (from requests->smart-open>=1.2.1->gensim>=3.4.0->stellargraph) (1.24.3)\n",
            "Requirement already satisfied: certifi>=2017.4.17 in /usr/local/lib/python3.6/dist-packages (from requests->smart-open>=1.2.1->gensim>=3.4.0->stellargraph) (2019.9.11)\n",
            "Requirement already satisfied: idna<2.9,>=2.5 in /usr/local/lib/python3.6/dist-packages (from requests->smart-open>=1.2.1->gensim>=3.4.0->stellargraph) (2.8)\n",
            "Requirement already satisfied: chardet<3.1.0,>=3.0.2 in /usr/local/lib/python3.6/dist-packages (from requests->smart-open>=1.2.1->gensim>=3.4.0->stellargraph) (3.0.4)\n",
            "Requirement already satisfied: docutils<0.16,>=0.10 in /usr/local/lib/python3.6/dist-packages (from botocore<1.14.0,>=1.13.7->boto3->smart-open>=1.2.1->gensim>=3.4.0->stellargraph) (0.15.2)\n",
            "Building wheels for collected packages: networkx\n",
            "  Building wheel for networkx (setup.py) ... \u001b[?25l\u001b[?25hdone\n",
            "  Created wheel for networkx: filename=networkx-2.3-py2.py3-none-any.whl size=1556408 sha256=d59279e68265b5212a9ed24b393f378985e846c38b1f906bc44e2ad79fe14c93\n",
            "  Stored in directory: /root/.cache/pip/wheels/de/63/64/3699be2a9d0ccdb37c7f16329acf3863fd76eda58c39c737af\n",
            "Successfully built networkx\n",
            "\u001b[31mERROR: albumentations 0.1.12 has requirement imgaug<0.2.7,>=0.2.5, but you'll have imgaug 0.2.9 which is incompatible.\u001b[0m\n",
            "Installing collected packages: networkx, tensorboard, tensorflow-estimator, tensorflow, stellargraph\n",
            "  Found existing installation: networkx 2.4\n",
            "    Uninstalling networkx-2.4:\n",
            "      Successfully uninstalled networkx-2.4\n",
            "  Found existing installation: tensorboard 1.15.0\n",
            "    Uninstalling tensorboard-1.15.0:\n",
            "      Successfully uninstalled tensorboard-1.15.0\n",
            "  Found existing installation: tensorflow-estimator 1.15.1\n",
            "    Uninstalling tensorflow-estimator-1.15.1:\n",
            "      Successfully uninstalled tensorflow-estimator-1.15.1\n",
            "  Found existing installation: tensorflow 1.15.0\n",
            "    Uninstalling tensorflow-1.15.0:\n",
            "      Successfully uninstalled tensorflow-1.15.0\n",
            "Successfully installed networkx-2.3 stellargraph-0.8.2 tensorboard-1.14.0 tensorflow-1.14.0 tensorflow-estimator-1.14.0\n"
          ],
          "name": "stdout"
        }
      ]
    },
    {
      "cell_type": "code",
      "metadata": {
        "id": "YQVebT31jMJE",
        "colab_type": "code",
        "colab": {}
      },
      "source": [
        "import networkx as nx\n",
        "import pandas as pd\n",
        "import os\n",
        "\n",
        "import stellargraph as sg\n",
        "from stellargraph.mapper import GraphSAGENodeGenerator\n",
        "from stellargraph.layer import GraphSAGE\n",
        "\n",
        "from tensorflow.keras import layers, optimizers, losses, metrics, Model\n",
        "from sklearn import preprocessing, feature_extraction, model_selection"
      ],
      "execution_count": 0,
      "outputs": []
    },
    {
      "cell_type": "code",
      "metadata": {
        "id": "yOsQy4k7kR_L",
        "colab_type": "code",
        "colab": {
          "base_uri": "https://localhost:8080/",
          "height": 255
        },
        "outputId": "2917e520-c62d-40a2-9d0c-690a362f0f50"
      },
      "source": [
        "data_dir = os.path.expanduser(\"\")\n",
        "g_pd = pd.read_csv(\"Dam_Edge_List.csv\",delimiter = \",\")\n",
        "print(g_pd)"
      ],
      "execution_count": 65,
      "outputs": [
        {
          "output_type": "stream",
          "text": [
            "     source  target  weight\n",
            "0         0       1     1.0\n",
            "1         1     301     1.0\n",
            "2         2       3     1.0\n",
            "3         3     264     1.0\n",
            "4         4       5     1.0\n",
            "..      ...     ...     ...\n",
            "424     509     510     1.0\n",
            "425     510     507     1.0\n",
            "426     511     411     1.0\n",
            "427     512       0     1.0\n",
            "428     512       4     1.0\n",
            "\n",
            "[429 rows x 3 columns]\n"
          ],
          "name": "stdout"
        }
      ]
    },
    {
      "cell_type": "code",
      "metadata": {
        "id": "WGD3Eqs7lj0c",
        "colab_type": "code",
        "outputId": "9f427d5b-b80a-4734-e772-47750c5fe369",
        "colab": {
          "base_uri": "https://localhost:8080/",
          "height": 34
        }
      },
      "source": [
        "g_nx = nx.from_pandas_edgelist(g_pd,source='source', target='target',edge_attr='weight')\n",
        "\n",
        "\n",
        "# load the node attribute data\n",
        "cora_data_location = os.path.expanduser(os.path.join(data_dir, \"Dam_Node_Word.csv\"))\n",
        "node_attr = pd.read_csv(cora_data_location, sep=',', header=0)\n",
        "values = { str(row.tolist()[0]): row.tolist()[-1] for _, row in node_attr.iterrows()}\n",
        "nx.set_node_attributes(g_nx, values, 'lemma')\n",
        "\n",
        "# Select the largest connected component. For clarity we ignore isolated\n",
        "# nodes and subgraphs; having these in the data does not prevent the\n",
        "# algorithm from running and producing valid results.\n",
        "g_nx_ccs = (g_nx.subgraph(c).copy() for c in nx.connected_components(g_nx))\n",
        "g_nx = max(g_nx_ccs, key=len)\n",
        "print(\"Largest subgraph statistics: {} nodes, {} edges\".format(\n",
        "    g_nx.number_of_nodes(), g_nx.number_of_edges()))"
      ],
      "execution_count": 72,
      "outputs": [
        {
          "output_type": "stream",
          "text": [
            "Largest subgraph statistics: 283 nodes, 424 edges\n"
          ],
          "name": "stdout"
        }
      ]
    },
    {
      "cell_type": "code",
      "metadata": {
        "id": "SrCXDlF-y0YM",
        "colab_type": "code",
        "colab": {
          "base_uri": "https://localhost:8080/",
          "height": 419
        },
        "outputId": "2d50ea7c-9de0-4b94-cd13-dcaf7514521b"
      },
      "source": [
        "node_attr"
      ],
      "execution_count": 73,
      "outputs": [
        {
          "output_type": "execute_result",
          "data": {
            "text/html": [
              "<div>\n",
              "<style scoped>\n",
              "    .dataframe tbody tr th:only-of-type {\n",
              "        vertical-align: middle;\n",
              "    }\n",
              "\n",
              "    .dataframe tbody tr th {\n",
              "        vertical-align: top;\n",
              "    }\n",
              "\n",
              "    .dataframe thead th {\n",
              "        text-align: right;\n",
              "    }\n",
              "</style>\n",
              "<table border=\"1\" class=\"dataframe\">\n",
              "  <thead>\n",
              "    <tr style=\"text-align: right;\">\n",
              "      <th></th>\n",
              "      <th>ID(n)</th>\n",
              "      <th>n.lemma</th>\n",
              "    </tr>\n",
              "  </thead>\n",
              "  <tbody>\n",
              "    <tr>\n",
              "      <th>0</th>\n",
              "      <td>0</td>\n",
              "      <td>fall</td>\n",
              "    </tr>\n",
              "    <tr>\n",
              "      <th>1</th>\n",
              "      <td>1</td>\n",
              "      <td>wall</td>\n",
              "    </tr>\n",
              "    <tr>\n",
              "      <th>2</th>\n",
              "      <td>2</td>\n",
              "      <td>40</td>\n",
              "    </tr>\n",
              "    <tr>\n",
              "      <th>3</th>\n",
              "      <td>3</td>\n",
              "      <td>%</td>\n",
              "    </tr>\n",
              "    <tr>\n",
              "      <th>4</th>\n",
              "      <td>4</td>\n",
              "      <td>lose</td>\n",
              "    </tr>\n",
              "    <tr>\n",
              "      <th>...</th>\n",
              "      <td>...</td>\n",
              "      <td>...</td>\n",
              "    </tr>\n",
              "    <tr>\n",
              "      <th>278</th>\n",
              "      <td>508</td>\n",
              "      <td>grow</td>\n",
              "    </tr>\n",
              "    <tr>\n",
              "      <th>279</th>\n",
              "      <td>509</td>\n",
              "      <td>attempt</td>\n",
              "    </tr>\n",
              "    <tr>\n",
              "      <th>280</th>\n",
              "      <td>510</td>\n",
              "      <td>fill</td>\n",
              "    </tr>\n",
              "    <tr>\n",
              "      <th>281</th>\n",
              "      <td>511</td>\n",
              "      <td>dam</td>\n",
              "    </tr>\n",
              "    <tr>\n",
              "      <th>282</th>\n",
              "      <td>512</td>\n",
              "      <td>embankment</td>\n",
              "    </tr>\n",
              "  </tbody>\n",
              "</table>\n",
              "<p>283 rows × 2 columns</p>\n",
              "</div>"
            ],
            "text/plain": [
              "     ID(n)     n.lemma\n",
              "0        0        fall\n",
              "1        1        wall\n",
              "2        2          40\n",
              "3        3           %\n",
              "4        4        lose\n",
              "..     ...         ...\n",
              "278    508        grow\n",
              "279    509     attempt\n",
              "280    510        fill\n",
              "281    511         dam\n",
              "282    512  embankment\n",
              "\n",
              "[283 rows x 2 columns]"
            ]
          },
          "metadata": {
            "tags": []
          },
          "execution_count": 73
        }
      ]
    },
    {
      "cell_type": "code",
      "metadata": {
        "id": "qg2KVnZQl9Hv",
        "colab_type": "code",
        "colab": {}
      },
      "source": [
        "feature_names = [\"w_{}\".format(ii) for ii in range(1433)]\n",
        "column_names =  feature_names + [\"subject\"]\n",
        "node_data = pd.read_table(os.path.join(data_dir, \"cora.content\"), header=None, names=column_names)"
      ],
      "execution_count": 0,
      "outputs": []
    },
    {
      "cell_type": "code",
      "metadata": {
        "id": "Kx_Z22WpmAL-",
        "colab_type": "code",
        "colab": {}
      },
      "source": [
        "node_data.index = node_data.index.map(str)\n",
        "node_data = node_data[node_data.index.isin(list(g_nx.nodes()))]"
      ],
      "execution_count": 0,
      "outputs": []
    },
    {
      "cell_type": "code",
      "metadata": {
        "id": "Tx_dhgWrmDD_",
        "colab_type": "code",
        "outputId": "97a92b4a-e2d0-4813-e3d0-8fde8ca4ac7f",
        "colab": {
          "base_uri": "https://localhost:8080/",
          "height": 136
        }
      },
      "source": [
        "set(node_data[\"subject\"])"
      ],
      "execution_count": 0,
      "outputs": [
        {
          "output_type": "execute_result",
          "data": {
            "text/plain": [
              "{'Case_Based',\n",
              " 'Genetic_Algorithms',\n",
              " 'Neural_Networks',\n",
              " 'Probabilistic_Methods',\n",
              " 'Reinforcement_Learning',\n",
              " 'Rule_Learning',\n",
              " 'Theory'}"
            ]
          },
          "metadata": {
            "tags": []
          },
          "execution_count": 27
        }
      ]
    },
    {
      "cell_type": "code",
      "metadata": {
        "id": "eRraE4v6mUVu",
        "colab_type": "code",
        "outputId": "5ac674f9-6d89-4064-ac1e-4634a6308fa9",
        "colab": {
          "base_uri": "https://localhost:8080/",
          "height": 136
        }
      },
      "source": [
        "train_data, test_data = model_selection.train_test_split(node_data, train_size=0.1, test_size=None, stratify=node_data['subject'], random_state=42)\n",
        "\n",
        "from collections import Counter\n",
        "Counter(train_data['subject'])"
      ],
      "execution_count": 0,
      "outputs": [
        {
          "output_type": "execute_result",
          "data": {
            "text/plain": [
              "Counter({'Case_Based': 28,\n",
              "         'Genetic_Algorithms': 41,\n",
              "         'Neural_Networks': 73,\n",
              "         'Probabilistic_Methods': 38,\n",
              "         'Reinforcement_Learning': 21,\n",
              "         'Rule_Learning': 13,\n",
              "         'Theory': 34})"
            ]
          },
          "metadata": {
            "tags": []
          },
          "execution_count": 29
        }
      ]
    },
    {
      "cell_type": "code",
      "metadata": {
        "id": "F5LSfOQamdfE",
        "colab_type": "code",
        "colab": {}
      },
      "source": [
        "target_encoding = feature_extraction.DictVectorizer(sparse=False)\n",
        "\n",
        "train_targets = target_encoding.fit_transform(train_data[[\"subject\"]].to_dict('records'))\n",
        "test_targets = target_encoding.transform(test_data[[\"subject\"]].to_dict('records'))"
      ],
      "execution_count": 0,
      "outputs": []
    },
    {
      "cell_type": "code",
      "metadata": {
        "id": "xyJDI1NXmhGM",
        "colab_type": "code",
        "colab": {}
      },
      "source": [
        "node_features = node_data[feature_names]"
      ],
      "execution_count": 0,
      "outputs": []
    },
    {
      "cell_type": "code",
      "metadata": {
        "id": "rq5kT7fQmhJH",
        "colab_type": "code",
        "outputId": "4559d1a6-6e23-4c2b-a81a-7b639d83594f",
        "colab": {
          "base_uri": "https://localhost:8080/",
          "height": 253
        }
      },
      "source": [
        "node_features.head()"
      ],
      "execution_count": 0,
      "outputs": [
        {
          "output_type": "execute_result",
          "data": {
            "text/html": [
              "<div>\n",
              "<style scoped>\n",
              "    .dataframe tbody tr th:only-of-type {\n",
              "        vertical-align: middle;\n",
              "    }\n",
              "\n",
              "    .dataframe tbody tr th {\n",
              "        vertical-align: top;\n",
              "    }\n",
              "\n",
              "    .dataframe thead th {\n",
              "        text-align: right;\n",
              "    }\n",
              "</style>\n",
              "<table border=\"1\" class=\"dataframe\">\n",
              "  <thead>\n",
              "    <tr style=\"text-align: right;\">\n",
              "      <th></th>\n",
              "      <th>w_0</th>\n",
              "      <th>w_1</th>\n",
              "      <th>w_2</th>\n",
              "      <th>w_3</th>\n",
              "      <th>w_4</th>\n",
              "      <th>w_5</th>\n",
              "      <th>w_6</th>\n",
              "      <th>w_7</th>\n",
              "      <th>w_8</th>\n",
              "      <th>w_9</th>\n",
              "      <th>w_10</th>\n",
              "      <th>w_11</th>\n",
              "      <th>w_12</th>\n",
              "      <th>w_13</th>\n",
              "      <th>w_14</th>\n",
              "      <th>w_15</th>\n",
              "      <th>w_16</th>\n",
              "      <th>w_17</th>\n",
              "      <th>w_18</th>\n",
              "      <th>w_19</th>\n",
              "      <th>w_20</th>\n",
              "      <th>w_21</th>\n",
              "      <th>w_22</th>\n",
              "      <th>w_23</th>\n",
              "      <th>w_24</th>\n",
              "      <th>w_25</th>\n",
              "      <th>w_26</th>\n",
              "      <th>w_27</th>\n",
              "      <th>w_28</th>\n",
              "      <th>w_29</th>\n",
              "      <th>w_30</th>\n",
              "      <th>w_31</th>\n",
              "      <th>w_32</th>\n",
              "      <th>w_33</th>\n",
              "      <th>w_34</th>\n",
              "      <th>w_35</th>\n",
              "      <th>w_36</th>\n",
              "      <th>w_37</th>\n",
              "      <th>w_38</th>\n",
              "      <th>w_39</th>\n",
              "      <th>...</th>\n",
              "      <th>w_1393</th>\n",
              "      <th>w_1394</th>\n",
              "      <th>w_1395</th>\n",
              "      <th>w_1396</th>\n",
              "      <th>w_1397</th>\n",
              "      <th>w_1398</th>\n",
              "      <th>w_1399</th>\n",
              "      <th>w_1400</th>\n",
              "      <th>w_1401</th>\n",
              "      <th>w_1402</th>\n",
              "      <th>w_1403</th>\n",
              "      <th>w_1404</th>\n",
              "      <th>w_1405</th>\n",
              "      <th>w_1406</th>\n",
              "      <th>w_1407</th>\n",
              "      <th>w_1408</th>\n",
              "      <th>w_1409</th>\n",
              "      <th>w_1410</th>\n",
              "      <th>w_1411</th>\n",
              "      <th>w_1412</th>\n",
              "      <th>w_1413</th>\n",
              "      <th>w_1414</th>\n",
              "      <th>w_1415</th>\n",
              "      <th>w_1416</th>\n",
              "      <th>w_1417</th>\n",
              "      <th>w_1418</th>\n",
              "      <th>w_1419</th>\n",
              "      <th>w_1420</th>\n",
              "      <th>w_1421</th>\n",
              "      <th>w_1422</th>\n",
              "      <th>w_1423</th>\n",
              "      <th>w_1424</th>\n",
              "      <th>w_1425</th>\n",
              "      <th>w_1426</th>\n",
              "      <th>w_1427</th>\n",
              "      <th>w_1428</th>\n",
              "      <th>w_1429</th>\n",
              "      <th>w_1430</th>\n",
              "      <th>w_1431</th>\n",
              "      <th>w_1432</th>\n",
              "    </tr>\n",
              "  </thead>\n",
              "  <tbody>\n",
              "    <tr>\n",
              "      <th>31336</th>\n",
              "      <td>0</td>\n",
              "      <td>0</td>\n",
              "      <td>0</td>\n",
              "      <td>0</td>\n",
              "      <td>0</td>\n",
              "      <td>0</td>\n",
              "      <td>0</td>\n",
              "      <td>0</td>\n",
              "      <td>0</td>\n",
              "      <td>0</td>\n",
              "      <td>0</td>\n",
              "      <td>0</td>\n",
              "      <td>0</td>\n",
              "      <td>0</td>\n",
              "      <td>0</td>\n",
              "      <td>0</td>\n",
              "      <td>0</td>\n",
              "      <td>0</td>\n",
              "      <td>0</td>\n",
              "      <td>0</td>\n",
              "      <td>0</td>\n",
              "      <td>0</td>\n",
              "      <td>0</td>\n",
              "      <td>0</td>\n",
              "      <td>0</td>\n",
              "      <td>0</td>\n",
              "      <td>0</td>\n",
              "      <td>0</td>\n",
              "      <td>0</td>\n",
              "      <td>0</td>\n",
              "      <td>0</td>\n",
              "      <td>0</td>\n",
              "      <td>0</td>\n",
              "      <td>0</td>\n",
              "      <td>0</td>\n",
              "      <td>0</td>\n",
              "      <td>0</td>\n",
              "      <td>0</td>\n",
              "      <td>0</td>\n",
              "      <td>0</td>\n",
              "      <td>...</td>\n",
              "      <td>0</td>\n",
              "      <td>0</td>\n",
              "      <td>0</td>\n",
              "      <td>0</td>\n",
              "      <td>0</td>\n",
              "      <td>0</td>\n",
              "      <td>0</td>\n",
              "      <td>0</td>\n",
              "      <td>0</td>\n",
              "      <td>0</td>\n",
              "      <td>0</td>\n",
              "      <td>0</td>\n",
              "      <td>0</td>\n",
              "      <td>0</td>\n",
              "      <td>0</td>\n",
              "      <td>0</td>\n",
              "      <td>0</td>\n",
              "      <td>0</td>\n",
              "      <td>0</td>\n",
              "      <td>0</td>\n",
              "      <td>0</td>\n",
              "      <td>0</td>\n",
              "      <td>0</td>\n",
              "      <td>0</td>\n",
              "      <td>0</td>\n",
              "      <td>0</td>\n",
              "      <td>0</td>\n",
              "      <td>0</td>\n",
              "      <td>0</td>\n",
              "      <td>0</td>\n",
              "      <td>0</td>\n",
              "      <td>0</td>\n",
              "      <td>0</td>\n",
              "      <td>1</td>\n",
              "      <td>0</td>\n",
              "      <td>0</td>\n",
              "      <td>0</td>\n",
              "      <td>0</td>\n",
              "      <td>0</td>\n",
              "      <td>0</td>\n",
              "    </tr>\n",
              "    <tr>\n",
              "      <th>1061127</th>\n",
              "      <td>0</td>\n",
              "      <td>0</td>\n",
              "      <td>0</td>\n",
              "      <td>0</td>\n",
              "      <td>0</td>\n",
              "      <td>0</td>\n",
              "      <td>0</td>\n",
              "      <td>0</td>\n",
              "      <td>0</td>\n",
              "      <td>0</td>\n",
              "      <td>0</td>\n",
              "      <td>0</td>\n",
              "      <td>1</td>\n",
              "      <td>0</td>\n",
              "      <td>0</td>\n",
              "      <td>0</td>\n",
              "      <td>0</td>\n",
              "      <td>0</td>\n",
              "      <td>0</td>\n",
              "      <td>0</td>\n",
              "      <td>0</td>\n",
              "      <td>0</td>\n",
              "      <td>0</td>\n",
              "      <td>0</td>\n",
              "      <td>0</td>\n",
              "      <td>0</td>\n",
              "      <td>0</td>\n",
              "      <td>0</td>\n",
              "      <td>0</td>\n",
              "      <td>0</td>\n",
              "      <td>0</td>\n",
              "      <td>0</td>\n",
              "      <td>0</td>\n",
              "      <td>0</td>\n",
              "      <td>0</td>\n",
              "      <td>0</td>\n",
              "      <td>0</td>\n",
              "      <td>0</td>\n",
              "      <td>0</td>\n",
              "      <td>0</td>\n",
              "      <td>...</td>\n",
              "      <td>0</td>\n",
              "      <td>0</td>\n",
              "      <td>0</td>\n",
              "      <td>0</td>\n",
              "      <td>0</td>\n",
              "      <td>0</td>\n",
              "      <td>0</td>\n",
              "      <td>0</td>\n",
              "      <td>0</td>\n",
              "      <td>0</td>\n",
              "      <td>0</td>\n",
              "      <td>0</td>\n",
              "      <td>0</td>\n",
              "      <td>0</td>\n",
              "      <td>0</td>\n",
              "      <td>0</td>\n",
              "      <td>0</td>\n",
              "      <td>0</td>\n",
              "      <td>0</td>\n",
              "      <td>0</td>\n",
              "      <td>0</td>\n",
              "      <td>0</td>\n",
              "      <td>0</td>\n",
              "      <td>0</td>\n",
              "      <td>0</td>\n",
              "      <td>0</td>\n",
              "      <td>0</td>\n",
              "      <td>0</td>\n",
              "      <td>0</td>\n",
              "      <td>0</td>\n",
              "      <td>0</td>\n",
              "      <td>0</td>\n",
              "      <td>1</td>\n",
              "      <td>0</td>\n",
              "      <td>0</td>\n",
              "      <td>0</td>\n",
              "      <td>0</td>\n",
              "      <td>0</td>\n",
              "      <td>0</td>\n",
              "      <td>0</td>\n",
              "    </tr>\n",
              "    <tr>\n",
              "      <th>1106406</th>\n",
              "      <td>0</td>\n",
              "      <td>0</td>\n",
              "      <td>0</td>\n",
              "      <td>0</td>\n",
              "      <td>0</td>\n",
              "      <td>0</td>\n",
              "      <td>0</td>\n",
              "      <td>0</td>\n",
              "      <td>0</td>\n",
              "      <td>0</td>\n",
              "      <td>0</td>\n",
              "      <td>0</td>\n",
              "      <td>0</td>\n",
              "      <td>0</td>\n",
              "      <td>0</td>\n",
              "      <td>0</td>\n",
              "      <td>0</td>\n",
              "      <td>0</td>\n",
              "      <td>0</td>\n",
              "      <td>0</td>\n",
              "      <td>0</td>\n",
              "      <td>0</td>\n",
              "      <td>0</td>\n",
              "      <td>0</td>\n",
              "      <td>0</td>\n",
              "      <td>0</td>\n",
              "      <td>0</td>\n",
              "      <td>0</td>\n",
              "      <td>0</td>\n",
              "      <td>0</td>\n",
              "      <td>0</td>\n",
              "      <td>0</td>\n",
              "      <td>0</td>\n",
              "      <td>0</td>\n",
              "      <td>0</td>\n",
              "      <td>0</td>\n",
              "      <td>0</td>\n",
              "      <td>0</td>\n",
              "      <td>0</td>\n",
              "      <td>0</td>\n",
              "      <td>...</td>\n",
              "      <td>0</td>\n",
              "      <td>0</td>\n",
              "      <td>0</td>\n",
              "      <td>0</td>\n",
              "      <td>0</td>\n",
              "      <td>0</td>\n",
              "      <td>0</td>\n",
              "      <td>0</td>\n",
              "      <td>0</td>\n",
              "      <td>0</td>\n",
              "      <td>0</td>\n",
              "      <td>0</td>\n",
              "      <td>0</td>\n",
              "      <td>0</td>\n",
              "      <td>0</td>\n",
              "      <td>0</td>\n",
              "      <td>0</td>\n",
              "      <td>0</td>\n",
              "      <td>0</td>\n",
              "      <td>0</td>\n",
              "      <td>0</td>\n",
              "      <td>0</td>\n",
              "      <td>1</td>\n",
              "      <td>0</td>\n",
              "      <td>0</td>\n",
              "      <td>0</td>\n",
              "      <td>0</td>\n",
              "      <td>0</td>\n",
              "      <td>1</td>\n",
              "      <td>0</td>\n",
              "      <td>0</td>\n",
              "      <td>0</td>\n",
              "      <td>0</td>\n",
              "      <td>0</td>\n",
              "      <td>0</td>\n",
              "      <td>0</td>\n",
              "      <td>0</td>\n",
              "      <td>0</td>\n",
              "      <td>0</td>\n",
              "      <td>0</td>\n",
              "    </tr>\n",
              "    <tr>\n",
              "      <th>13195</th>\n",
              "      <td>0</td>\n",
              "      <td>0</td>\n",
              "      <td>0</td>\n",
              "      <td>0</td>\n",
              "      <td>0</td>\n",
              "      <td>0</td>\n",
              "      <td>0</td>\n",
              "      <td>0</td>\n",
              "      <td>0</td>\n",
              "      <td>0</td>\n",
              "      <td>0</td>\n",
              "      <td>0</td>\n",
              "      <td>0</td>\n",
              "      <td>0</td>\n",
              "      <td>0</td>\n",
              "      <td>0</td>\n",
              "      <td>0</td>\n",
              "      <td>0</td>\n",
              "      <td>0</td>\n",
              "      <td>0</td>\n",
              "      <td>0</td>\n",
              "      <td>0</td>\n",
              "      <td>0</td>\n",
              "      <td>0</td>\n",
              "      <td>0</td>\n",
              "      <td>0</td>\n",
              "      <td>0</td>\n",
              "      <td>0</td>\n",
              "      <td>0</td>\n",
              "      <td>0</td>\n",
              "      <td>0</td>\n",
              "      <td>0</td>\n",
              "      <td>0</td>\n",
              "      <td>0</td>\n",
              "      <td>0</td>\n",
              "      <td>0</td>\n",
              "      <td>0</td>\n",
              "      <td>0</td>\n",
              "      <td>0</td>\n",
              "      <td>0</td>\n",
              "      <td>...</td>\n",
              "      <td>0</td>\n",
              "      <td>0</td>\n",
              "      <td>0</td>\n",
              "      <td>0</td>\n",
              "      <td>0</td>\n",
              "      <td>0</td>\n",
              "      <td>0</td>\n",
              "      <td>0</td>\n",
              "      <td>0</td>\n",
              "      <td>0</td>\n",
              "      <td>0</td>\n",
              "      <td>0</td>\n",
              "      <td>0</td>\n",
              "      <td>0</td>\n",
              "      <td>0</td>\n",
              "      <td>0</td>\n",
              "      <td>0</td>\n",
              "      <td>0</td>\n",
              "      <td>0</td>\n",
              "      <td>0</td>\n",
              "      <td>0</td>\n",
              "      <td>0</td>\n",
              "      <td>0</td>\n",
              "      <td>0</td>\n",
              "      <td>0</td>\n",
              "      <td>0</td>\n",
              "      <td>0</td>\n",
              "      <td>0</td>\n",
              "      <td>0</td>\n",
              "      <td>0</td>\n",
              "      <td>0</td>\n",
              "      <td>0</td>\n",
              "      <td>0</td>\n",
              "      <td>0</td>\n",
              "      <td>0</td>\n",
              "      <td>0</td>\n",
              "      <td>0</td>\n",
              "      <td>0</td>\n",
              "      <td>0</td>\n",
              "      <td>0</td>\n",
              "    </tr>\n",
              "    <tr>\n",
              "      <th>37879</th>\n",
              "      <td>0</td>\n",
              "      <td>0</td>\n",
              "      <td>0</td>\n",
              "      <td>0</td>\n",
              "      <td>0</td>\n",
              "      <td>0</td>\n",
              "      <td>0</td>\n",
              "      <td>0</td>\n",
              "      <td>0</td>\n",
              "      <td>0</td>\n",
              "      <td>0</td>\n",
              "      <td>0</td>\n",
              "      <td>0</td>\n",
              "      <td>0</td>\n",
              "      <td>0</td>\n",
              "      <td>0</td>\n",
              "      <td>0</td>\n",
              "      <td>0</td>\n",
              "      <td>0</td>\n",
              "      <td>0</td>\n",
              "      <td>0</td>\n",
              "      <td>0</td>\n",
              "      <td>0</td>\n",
              "      <td>0</td>\n",
              "      <td>0</td>\n",
              "      <td>0</td>\n",
              "      <td>0</td>\n",
              "      <td>0</td>\n",
              "      <td>0</td>\n",
              "      <td>0</td>\n",
              "      <td>0</td>\n",
              "      <td>0</td>\n",
              "      <td>0</td>\n",
              "      <td>0</td>\n",
              "      <td>0</td>\n",
              "      <td>0</td>\n",
              "      <td>0</td>\n",
              "      <td>0</td>\n",
              "      <td>0</td>\n",
              "      <td>0</td>\n",
              "      <td>...</td>\n",
              "      <td>0</td>\n",
              "      <td>0</td>\n",
              "      <td>0</td>\n",
              "      <td>0</td>\n",
              "      <td>0</td>\n",
              "      <td>0</td>\n",
              "      <td>0</td>\n",
              "      <td>0</td>\n",
              "      <td>0</td>\n",
              "      <td>0</td>\n",
              "      <td>0</td>\n",
              "      <td>0</td>\n",
              "      <td>0</td>\n",
              "      <td>0</td>\n",
              "      <td>0</td>\n",
              "      <td>0</td>\n",
              "      <td>0</td>\n",
              "      <td>0</td>\n",
              "      <td>0</td>\n",
              "      <td>0</td>\n",
              "      <td>0</td>\n",
              "      <td>0</td>\n",
              "      <td>0</td>\n",
              "      <td>0</td>\n",
              "      <td>0</td>\n",
              "      <td>0</td>\n",
              "      <td>0</td>\n",
              "      <td>0</td>\n",
              "      <td>0</td>\n",
              "      <td>0</td>\n",
              "      <td>0</td>\n",
              "      <td>0</td>\n",
              "      <td>0</td>\n",
              "      <td>0</td>\n",
              "      <td>0</td>\n",
              "      <td>0</td>\n",
              "      <td>0</td>\n",
              "      <td>0</td>\n",
              "      <td>0</td>\n",
              "      <td>0</td>\n",
              "    </tr>\n",
              "  </tbody>\n",
              "</table>\n",
              "<p>5 rows × 1433 columns</p>\n",
              "</div>"
            ],
            "text/plain": [
              "         w_0  w_1  w_2  w_3  w_4  ...  w_1428  w_1429  w_1430  w_1431  w_1432\n",
              "31336      0    0    0    0    0  ...       0       0       0       0       0\n",
              "1061127    0    0    0    0    0  ...       0       0       0       0       0\n",
              "1106406    0    0    0    0    0  ...       0       0       0       0       0\n",
              "13195      0    0    0    0    0  ...       0       0       0       0       0\n",
              "37879      0    0    0    0    0  ...       0       0       0       0       0\n",
              "\n",
              "[5 rows x 1433 columns]"
            ]
          },
          "metadata": {
            "tags": []
          },
          "execution_count": 32
        }
      ]
    },
    {
      "cell_type": "code",
      "metadata": {
        "id": "sSn9PZyqmhL9",
        "colab_type": "code",
        "colab": {}
      },
      "source": [
        "G = sg.StellarGraph(g_nx, node_features=node_features)"
      ],
      "execution_count": 0,
      "outputs": []
    },
    {
      "cell_type": "code",
      "metadata": {
        "id": "C66ke8cnmhRW",
        "colab_type": "code",
        "outputId": "8f566c27-cb2e-4632-bf97-95a65d24d34f",
        "colab": {
          "base_uri": "https://localhost:8080/",
          "height": 204
        }
      },
      "source": [
        "print(G.info())"
      ],
      "execution_count": 0,
      "outputs": [
        {
          "output_type": "stream",
          "text": [
            "StellarGraph: Undirected multigraph\n",
            " Nodes: 2485, Edges: 5069\n",
            "\n",
            " Node types:\n",
            "  default: [2485]\n",
            "        Attributes: {'subject'}\n",
            "    Edge types: default-default->default\n",
            "\n",
            " Edge types:\n",
            "    default-default->default: [5069]\n",
            "\n"
          ],
          "name": "stdout"
        }
      ]
    },
    {
      "cell_type": "code",
      "metadata": {
        "id": "saKSc_comhPK",
        "colab_type": "code",
        "colab": {}
      },
      "source": [
        "batch_size = 50; num_samples = [10, 10]"
      ],
      "execution_count": 0,
      "outputs": []
    },
    {
      "cell_type": "code",
      "metadata": {
        "id": "IWPX3L4omwQD",
        "colab_type": "code",
        "colab": {}
      },
      "source": [
        "generator = GraphSAGENodeGenerator(G, batch_size, num_samples)"
      ],
      "execution_count": 0,
      "outputs": []
    },
    {
      "cell_type": "code",
      "metadata": {
        "id": "D4kouZXsmwTB",
        "colab_type": "code",
        "colab": {}
      },
      "source": [
        "train_gen = generator.flow(train_data.index, train_targets)"
      ],
      "execution_count": 0,
      "outputs": []
    },
    {
      "cell_type": "code",
      "metadata": {
        "id": "hQnUA6xemwWD",
        "colab_type": "code",
        "outputId": "59aba553-b125-43a3-dd95-05893c1120c6",
        "colab": {
          "base_uri": "https://localhost:8080/",
          "height": 88
        }
      },
      "source": [
        "graphsage_model = GraphSAGE(\n",
        "    layer_sizes=[32, 32],\n",
        "    generator=train_gen,\n",
        "    bias=True,\n",
        "    dropout=0.5,\n",
        ")"
      ],
      "execution_count": 0,
      "outputs": [
        {
          "output_type": "stream",
          "text": [
            "WARNING:tensorflow:From /usr/local/lib/python3.6/dist-packages/tensorflow/python/ops/init_ops.py:1251: calling VarianceScaling.__init__ (from tensorflow.python.ops.init_ops) with dtype is deprecated and will be removed in a future version.\n",
            "Instructions for updating:\n",
            "Call initializer instance with the dtype argument instead of passing it to the constructor\n"
          ],
          "name": "stdout"
        }
      ]
    },
    {
      "cell_type": "code",
      "metadata": {
        "id": "Dw2u8PAhm9C5",
        "colab_type": "code",
        "colab": {}
      },
      "source": [
        "x_inp, x_out = graphsage_model.default_model(flatten_output=True)\n",
        "prediction = layers.Dense(units=train_targets.shape[1], activation=\"softmax\")(x_out)"
      ],
      "execution_count": 0,
      "outputs": []
    },
    {
      "cell_type": "code",
      "metadata": {
        "id": "WT7xapQCm9HL",
        "colab_type": "code",
        "outputId": "03f6aaa1-3979-40d8-a9e3-c8e293febf24",
        "colab": {
          "base_uri": "https://localhost:8080/",
          "height": 34
        }
      },
      "source": [
        "prediction.shape"
      ],
      "execution_count": 0,
      "outputs": [
        {
          "output_type": "execute_result",
          "data": {
            "text/plain": [
              "TensorShape([Dimension(None), Dimension(7)])"
            ]
          },
          "metadata": {
            "tags": []
          },
          "execution_count": 41
        }
      ]
    },
    {
      "cell_type": "code",
      "metadata": {
        "id": "7B5d0Macm9KV",
        "colab_type": "code",
        "colab": {}
      },
      "source": [
        "model = Model(inputs=x_inp, outputs=prediction)\n",
        "model.compile(\n",
        "    optimizer=optimizers.Adam(lr=0.005),\n",
        "    loss=losses.categorical_crossentropy,\n",
        "    metrics=[\"acc\"],\n",
        ")"
      ],
      "execution_count": 0,
      "outputs": []
    },
    {
      "cell_type": "code",
      "metadata": {
        "id": "kwYn5qzvm9Pf",
        "colab_type": "code",
        "colab": {}
      },
      "source": [
        "test_gen = generator.flow(test_data.index, test_targets)"
      ],
      "execution_count": 0,
      "outputs": []
    },
    {
      "cell_type": "code",
      "metadata": {
        "id": "NFeGzZ_bm9Nr",
        "colab_type": "code",
        "outputId": "89212454-4147-4b24-b1d7-c6f7ff0b8ff6",
        "colab": {
          "base_uri": "https://localhost:8080/",
          "height": 768
        }
      },
      "source": [
        "history = model.fit_generator(\n",
        "    train_gen,\n",
        "    epochs=20,\n",
        "    validation_data=test_gen,\n",
        "    verbose=2,\n",
        "    shuffle=True,\n",
        ")"
      ],
      "execution_count": 0,
      "outputs": [
        {
          "output_type": "stream",
          "text": [
            "Epoch 1/20\n",
            "WARNING:tensorflow:From /usr/local/lib/python3.6/dist-packages/tensorflow/python/ops/math_grad.py:1250: add_dispatch_support.<locals>.wrapper (from tensorflow.python.ops.array_ops) is deprecated and will be removed in a future version.\n",
            "Instructions for updating:\n",
            "Use tf.where in 2.0, which has the same broadcast rule as np.where\n",
            "5/5 - 4s - loss: 1.8676 - acc: 0.2500 - val_loss: 1.7343 - val_acc: 0.3590\n",
            "Epoch 2/20\n",
            "5/5 - 3s - loss: 1.6937 - acc: 0.4194 - val_loss: 1.6119 - val_acc: 0.4542\n",
            "Epoch 3/20\n",
            "5/5 - 3s - loss: 1.5490 - acc: 0.5766 - val_loss: 1.4768 - val_acc: 0.5793\n",
            "Epoch 4/20\n",
            "5/5 - 3s - loss: 1.3902 - acc: 0.7339 - val_loss: 1.3574 - val_acc: 0.7184\n",
            "Epoch 5/20\n",
            "5/5 - 3s - loss: 1.2805 - acc: 0.8024 - val_loss: 1.2567 - val_acc: 0.7662\n",
            "Epoch 6/20\n",
            "5/5 - 3s - loss: 1.1553 - acc: 0.8750 - val_loss: 1.1750 - val_acc: 0.7814\n",
            "Epoch 7/20\n",
            "5/5 - 3s - loss: 1.0477 - acc: 0.8992 - val_loss: 1.0881 - val_acc: 0.7997\n",
            "Epoch 8/20\n",
            "5/5 - 3s - loss: 0.9404 - acc: 0.9355 - val_loss: 1.0166 - val_acc: 0.8163\n",
            "Epoch 9/20\n",
            "5/5 - 3s - loss: 0.8622 - acc: 0.9516 - val_loss: 0.9642 - val_acc: 0.8149\n",
            "Epoch 10/20\n",
            "5/5 - 3s - loss: 0.7827 - acc: 0.9637 - val_loss: 0.9078 - val_acc: 0.8257\n",
            "Epoch 11/20\n",
            "5/5 - 3s - loss: 0.7128 - acc: 0.9839 - val_loss: 0.8590 - val_acc: 0.8266\n",
            "Epoch 12/20\n",
            "5/5 - 3s - loss: 0.6329 - acc: 0.9919 - val_loss: 0.8220 - val_acc: 0.8301\n",
            "Epoch 13/20\n",
            "5/5 - 3s - loss: 0.5708 - acc: 0.9879 - val_loss: 0.7991 - val_acc: 0.8198\n",
            "Epoch 14/20\n",
            "5/5 - 3s - loss: 0.5204 - acc: 0.9879 - val_loss: 0.7650 - val_acc: 0.8239\n",
            "Epoch 15/20\n",
            "5/5 - 3s - loss: 0.4717 - acc: 0.9960 - val_loss: 0.7419 - val_acc: 0.8221\n",
            "Epoch 16/20\n",
            "5/5 - 3s - loss: 0.4474 - acc: 0.9879 - val_loss: 0.7216 - val_acc: 0.8172\n",
            "Epoch 17/20\n",
            "5/5 - 3s - loss: 0.3911 - acc: 0.9960 - val_loss: 0.7022 - val_acc: 0.8194\n",
            "Epoch 18/20\n",
            "5/5 - 3s - loss: 0.3690 - acc: 0.9919 - val_loss: 0.6955 - val_acc: 0.8163\n",
            "Epoch 19/20\n",
            "5/5 - 3s - loss: 0.3402 - acc: 1.0000 - val_loss: 0.6637 - val_acc: 0.8243\n",
            "Epoch 20/20\n",
            "5/5 - 3s - loss: 0.3065 - acc: 0.9960 - val_loss: 0.6680 - val_acc: 0.8239\n"
          ],
          "name": "stdout"
        }
      ]
    },
    {
      "cell_type": "code",
      "metadata": {
        "id": "iDL9CZiPnHjp",
        "colab_type": "code",
        "colab": {}
      },
      "source": [
        "import matplotlib.pyplot as plt\n",
        "%matplotlib inline\n",
        "\n",
        "def plot_history(history):\n",
        "    metrics = sorted(history.history.keys())\n",
        "    metrics = metrics[:len(metrics)//2]\n",
        "    for m in metrics:\n",
        "        # summarize history for metric m\n",
        "        plt.plot(history.history[m])\n",
        "        plt.plot(history.history['val_' + m])\n",
        "        plt.title(m)\n",
        "        plt.ylabel(m)\n",
        "        plt.xlabel('epoch')\n",
        "        plt.legend(['train', 'test'], loc='upper right')\n",
        "        plt.show()"
      ],
      "execution_count": 0,
      "outputs": []
    },
    {
      "cell_type": "code",
      "metadata": {
        "id": "yNTocafbnHpI",
        "colab_type": "code",
        "outputId": "5d7b3a6b-c927-4738-f12a-37cdc212078d",
        "colab": {
          "base_uri": "https://localhost:8080/",
          "height": 573
        }
      },
      "source": [
        "plot_history(history)"
      ],
      "execution_count": 0,
      "outputs": [
        {
          "output_type": "display_data",
          "data": {
            "image/png": "[encoded data removed]",
            "text/plain": [
              "<Figure size 432x288 with 1 Axes>"
            ]
          },
          "metadata": {
            "tags": []
          }
        },
        {
          "output_type": "display_data",
          "data": {
            "image/png": "[encoded data removed]",
            "text/plain": [
              "<Figure size 432x288 with 1 Axes>"
            ]
          },
          "metadata": {
            "tags": []
          }
        }
      ]
    },
    {
      "cell_type": "code",
      "metadata": {
        "id": "gPPPaZLxnHnH",
        "colab_type": "code",
        "outputId": "510e0d15-e71a-440b-e2d8-3f9a08be0bf9",
        "colab": {
          "base_uri": "https://localhost:8080/",
          "height": 85
        }
      },
      "source": [
        "test_metrics = model.evaluate_generator(test_gen)\n",
        "print(\"\\nTest Set Metrics:\")\n",
        "for name, val in zip(model.metrics_names, test_metrics):\n",
        "    print(\"\\t{}: {:0.4f}\".format(name, val))"
      ],
      "execution_count": 0,
      "outputs": [
        {
          "output_type": "stream",
          "text": [
            "\n",
            "Test Set Metrics:\n",
            "\tloss: 0.6589\n",
            "\tacc: 0.8207\n"
          ],
          "name": "stdout"
        }
      ]
    },
    {
      "cell_type": "code",
      "metadata": {
        "id": "mBKKKNzSnUgR",
        "colab_type": "code",
        "colab": {}
      },
      "source": [
        "all_nodes = node_data.index\n",
        "all_mapper = generator.flow(all_nodes)\n",
        "all_predictions = model.predict_generator(all_mapper)"
      ],
      "execution_count": 0,
      "outputs": []
    },
    {
      "cell_type": "code",
      "metadata": {
        "id": "tk57r20KnUme",
        "colab_type": "code",
        "colab": {}
      },
      "source": [
        "node_predictions = target_encoding.inverse_transform(all_predictions)"
      ],
      "execution_count": 0,
      "outputs": []
    },
    {
      "cell_type": "code",
      "metadata": {
        "id": "VLyKWrLwnUsk",
        "colab_type": "code",
        "outputId": "df00517b-0db3-4284-fc41-bee7d72e89d8",
        "colab": {
          "base_uri": "https://localhost:8080/",
          "height": 359
        }
      },
      "source": [
        "results = pd.DataFrame(node_predictions, index=all_nodes).idxmax(axis=1)\n",
        "df = pd.DataFrame({\"Predicted\": results, \"True\": node_data['subject']})\n",
        "df.head(10)"
      ],
      "execution_count": 0,
      "outputs": [
        {
          "output_type": "execute_result",
          "data": {
            "text/html": [
              "<div>\n",
              "<style scoped>\n",
              "    .dataframe tbody tr th:only-of-type {\n",
              "        vertical-align: middle;\n",
              "    }\n",
              "\n",
              "    .dataframe tbody tr th {\n",
              "        vertical-align: top;\n",
              "    }\n",
              "\n",
              "    .dataframe thead th {\n",
              "        text-align: right;\n",
              "    }\n",
              "</style>\n",
              "<table border=\"1\" class=\"dataframe\">\n",
              "  <thead>\n",
              "    <tr style=\"text-align: right;\">\n",
              "      <th></th>\n",
              "      <th>Predicted</th>\n",
              "      <th>True</th>\n",
              "    </tr>\n",
              "  </thead>\n",
              "  <tbody>\n",
              "    <tr>\n",
              "      <th>31336</th>\n",
              "      <td>subject=Theory</td>\n",
              "      <td>Neural_Networks</td>\n",
              "    </tr>\n",
              "    <tr>\n",
              "      <th>1061127</th>\n",
              "      <td>subject=Rule_Learning</td>\n",
              "      <td>Rule_Learning</td>\n",
              "    </tr>\n",
              "    <tr>\n",
              "      <th>1106406</th>\n",
              "      <td>subject=Reinforcement_Learning</td>\n",
              "      <td>Reinforcement_Learning</td>\n",
              "    </tr>\n",
              "    <tr>\n",
              "      <th>13195</th>\n",
              "      <td>subject=Reinforcement_Learning</td>\n",
              "      <td>Reinforcement_Learning</td>\n",
              "    </tr>\n",
              "    <tr>\n",
              "      <th>37879</th>\n",
              "      <td>subject=Probabilistic_Methods</td>\n",
              "      <td>Probabilistic_Methods</td>\n",
              "    </tr>\n",
              "    <tr>\n",
              "      <th>1126012</th>\n",
              "      <td>subject=Probabilistic_Methods</td>\n",
              "      <td>Probabilistic_Methods</td>\n",
              "    </tr>\n",
              "    <tr>\n",
              "      <th>1107140</th>\n",
              "      <td>subject=Theory</td>\n",
              "      <td>Theory</td>\n",
              "    </tr>\n",
              "    <tr>\n",
              "      <th>1102850</th>\n",
              "      <td>subject=Theory</td>\n",
              "      <td>Neural_Networks</td>\n",
              "    </tr>\n",
              "    <tr>\n",
              "      <th>31349</th>\n",
              "      <td>subject=Theory</td>\n",
              "      <td>Neural_Networks</td>\n",
              "    </tr>\n",
              "    <tr>\n",
              "      <th>1106418</th>\n",
              "      <td>subject=Theory</td>\n",
              "      <td>Theory</td>\n",
              "    </tr>\n",
              "  </tbody>\n",
              "</table>\n",
              "</div>"
            ],
            "text/plain": [
              "                              Predicted                    True\n",
              "31336                    subject=Theory         Neural_Networks\n",
              "1061127           subject=Rule_Learning           Rule_Learning\n",
              "1106406  subject=Reinforcement_Learning  Reinforcement_Learning\n",
              "13195    subject=Reinforcement_Learning  Reinforcement_Learning\n",
              "37879     subject=Probabilistic_Methods   Probabilistic_Methods\n",
              "1126012   subject=Probabilistic_Methods   Probabilistic_Methods\n",
              "1107140                  subject=Theory                  Theory\n",
              "1102850                  subject=Theory         Neural_Networks\n",
              "31349                    subject=Theory         Neural_Networks\n",
              "1106418                  subject=Theory                  Theory"
            ]
          },
          "metadata": {
            "tags": []
          },
          "execution_count": 53
        }
      ]
    },
    {
      "cell_type": "code",
      "metadata": {
        "id": "jsEws_e6nUqs",
        "colab_type": "code",
        "colab": {}
      },
      "source": [
        ""
      ],
      "execution_count": 0,
      "outputs": []
    },
    {
      "cell_type": "code",
      "metadata": {
        "id": "SXcMWF7PnUkj",
        "colab_type": "code",
        "colab": {}
      },
      "source": [
        ""
      ],
      "execution_count": 0,
      "outputs": []
    }
  ]
}