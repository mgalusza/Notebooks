{
  "nbformat": 4,
  "nbformat_minor": 0,
  "metadata": {
    "colab": {
      "name": "graphSAGE_Example.ipynb",
      "provenance": [],
      "include_colab_link": true
    },
    "kernelspec": {
      "name": "python3",
      "display_name": "Python 3"
    }
  },
  "cells": [
    {
      "cell_type": "markdown",
      "metadata": {
        "id": "view-in-github",
        "colab_type": "text"
      },
      "source": [
        "<a href=\"https://colab.research.google.com/github/mgalusza/Notebooks/blob/master/graphSAGE_Example.ipynb\" target=\"_parent\"><img src=\"https://colab.research.google.com/assets/colab-badge.svg\" alt=\"Open In Colab\"/></a>"
      ]
    },
    {
      "cell_type": "code",
      "metadata": {
        "id": "aCmbmm4ghUsw",
        "colab_type": "code",
        "outputId": "2fedb74b-5f49-4d0c-8b51-e666a74d1fa8",
        "colab": {
          "base_uri": "https://localhost:8080/",
          "height": 34
        }
      },
      "source": [
        "from google.colab import drive\n",
        "drive.mount('/content/gdrive')"
      ],
      "execution_count": 1,
      "outputs": [
        {
          "output_type": "stream",
          "text": [
            "Drive already mounted at /content/gdrive; to attempt to forcibly remount, call drive.mount(\"/content/gdrive\", force_remount=True).\n"
          ],
          "name": "stdout"
        }
      ]
    },
    {
      "cell_type": "code",
      "metadata": {
        "id": "npCfGXKph_NN",
        "colab_type": "code",
        "outputId": "938941b2-9e90-43cf-d91d-d0115081dbc8",
        "colab": {
          "base_uri": "https://localhost:8080/",
          "height": 34
        }
      },
      "source": [
        "cd /content/gdrive/My Drive/ML\n"
      ],
      "execution_count": 2,
      "outputs": [
        {
          "output_type": "stream",
          "text": [
            "/content/gdrive/My Drive/ML\n"
          ],
          "name": "stdout"
        }
      ]
    },
    {
      "cell_type": "code",
      "metadata": {
        "id": "JkeqO5d_5RFo",
        "colab_type": "code",
        "outputId": "9ba891b0-16df-485b-946b-1bc9911af41b",
        "colab": {
          "base_uri": "https://localhost:8080/",
          "height": 34
        }
      },
      "source": [
        "cd cora"
      ],
      "execution_count": 3,
      "outputs": [
        {
          "output_type": "stream",
          "text": [
            "/content/gdrive/My Drive/ML/cora\n"
          ],
          "name": "stdout"
        }
      ]
    },
    {
      "cell_type": "code",
      "metadata": {
        "id": "Hv1igdX5iMSU",
        "colab_type": "code",
        "outputId": "4dcc982d-1e03-44f0-8acd-e3493cb5e536",
        "colab": {
          "base_uri": "https://localhost:8080/",
          "height": 819
        }
      },
      "source": [
        "!pip install stellargraph"
      ],
      "execution_count": 4,
      "outputs": [
        {
          "output_type": "stream",
          "text": [
            "Requirement already satisfied: stellargraph in /usr/local/lib/python3.6/dist-packages (0.8.2)\n",
            "Requirement already satisfied: matplotlib>=2.2 in /usr/local/lib/python3.6/dist-packages (from stellargraph) (3.1.1)\n",
            "Requirement already satisfied: scikit-learn>=0.20 in /usr/local/lib/python3.6/dist-packages (from stellargraph) (0.21.3)\n",
            "Requirement already satisfied: gensim>=3.4.0 in /usr/local/lib/python3.6/dist-packages (from stellargraph) (3.6.0)\n",
            "Requirement already satisfied: tensorflow<1.15,>=1.14 in /usr/local/lib/python3.6/dist-packages (from stellargraph) (1.14.0)\n",
            "Requirement already satisfied: networkx<2.4,>=2.2 in /usr/local/lib/python3.6/dist-packages (from stellargraph) (2.3)\n",
            "Requirement already satisfied: scipy>=1.1.0 in /usr/local/lib/python3.6/dist-packages (from stellargraph) (1.3.1)\n",
            "Requirement already satisfied: pandas>=0.24 in /usr/local/lib/python3.6/dist-packages (from stellargraph) (0.25.3)\n",
            "Requirement already satisfied: numpy>=1.14 in /usr/local/lib/python3.6/dist-packages (from stellargraph) (1.17.3)\n",
            "Requirement already satisfied: cycler>=0.10 in /usr/local/lib/python3.6/dist-packages (from matplotlib>=2.2->stellargraph) (0.10.0)\n",
            "Requirement already satisfied: kiwisolver>=1.0.1 in /usr/local/lib/python3.6/dist-packages (from matplotlib>=2.2->stellargraph) (1.1.0)\n",
            "Requirement already satisfied: python-dateutil>=2.1 in /usr/local/lib/python3.6/dist-packages (from matplotlib>=2.2->stellargraph) (2.6.1)\n",
            "Requirement already satisfied: pyparsing!=2.0.4,!=2.1.2,!=2.1.6,>=2.0.1 in /usr/local/lib/python3.6/dist-packages (from matplotlib>=2.2->stellargraph) (2.4.2)\n",
            "Requirement already satisfied: joblib>=0.11 in /usr/local/lib/python3.6/dist-packages (from scikit-learn>=0.20->stellargraph) (0.14.0)\n",
            "Requirement already satisfied: smart-open>=1.2.1 in /usr/local/lib/python3.6/dist-packages (from gensim>=3.4.0->stellargraph) (1.8.4)\n",
            "Requirement already satisfied: six>=1.5.0 in /usr/local/lib/python3.6/dist-packages (from gensim>=3.4.0->stellargraph) (1.12.0)\n",
            "Requirement already satisfied: gast>=0.2.0 in /usr/local/lib/python3.6/dist-packages (from tensorflow<1.15,>=1.14->stellargraph) (0.2.2)\n",
            "Requirement already satisfied: absl-py>=0.7.0 in /usr/local/lib/python3.6/dist-packages (from tensorflow<1.15,>=1.14->stellargraph) (0.8.1)\n",
            "Requirement already satisfied: keras-preprocessing>=1.0.5 in /usr/local/lib/python3.6/dist-packages (from tensorflow<1.15,>=1.14->stellargraph) (1.1.0)\n",
            "Requirement already satisfied: tensorboard<1.15.0,>=1.14.0 in /usr/local/lib/python3.6/dist-packages (from tensorflow<1.15,>=1.14->stellargraph) (1.14.0)\n",
            "Requirement already satisfied: grpcio>=1.8.6 in /usr/local/lib/python3.6/dist-packages (from tensorflow<1.15,>=1.14->stellargraph) (1.15.0)\n",
            "Requirement already satisfied: wrapt>=1.11.1 in /usr/local/lib/python3.6/dist-packages (from tensorflow<1.15,>=1.14->stellargraph) (1.11.2)\n",
            "Requirement already satisfied: termcolor>=1.1.0 in /usr/local/lib/python3.6/dist-packages (from tensorflow<1.15,>=1.14->stellargraph) (1.1.0)\n",
            "Requirement already satisfied: wheel>=0.26 in /usr/local/lib/python3.6/dist-packages (from tensorflow<1.15,>=1.14->stellargraph) (0.33.6)\n",
            "Requirement already satisfied: protobuf>=3.6.1 in /usr/local/lib/python3.6/dist-packages (from tensorflow<1.15,>=1.14->stellargraph) (3.10.0)\n",
            "Requirement already satisfied: astor>=0.6.0 in /usr/local/lib/python3.6/dist-packages (from tensorflow<1.15,>=1.14->stellargraph) (0.8.0)\n",
            "Requirement already satisfied: keras-applications>=1.0.6 in /usr/local/lib/python3.6/dist-packages (from tensorflow<1.15,>=1.14->stellargraph) (1.0.8)\n",
            "Requirement already satisfied: google-pasta>=0.1.6 in /usr/local/lib/python3.6/dist-packages (from tensorflow<1.15,>=1.14->stellargraph) (0.1.7)\n",
            "Requirement already satisfied: tensorflow-estimator<1.15.0rc0,>=1.14.0rc0 in /usr/local/lib/python3.6/dist-packages (from tensorflow<1.15,>=1.14->stellargraph) (1.14.0)\n",
            "Requirement already satisfied: decorator>=4.3.0 in /usr/local/lib/python3.6/dist-packages (from networkx<2.4,>=2.2->stellargraph) (4.4.1)\n",
            "Requirement already satisfied: pytz>=2017.2 in /usr/local/lib/python3.6/dist-packages (from pandas>=0.24->stellargraph) (2018.9)\n",
            "Requirement already satisfied: setuptools in /usr/local/lib/python3.6/dist-packages (from kiwisolver>=1.0.1->matplotlib>=2.2->stellargraph) (41.4.0)\n",
            "Requirement already satisfied: boto>=2.32 in /usr/local/lib/python3.6/dist-packages (from smart-open>=1.2.1->gensim>=3.4.0->stellargraph) (2.49.0)\n",
            "Requirement already satisfied: requests in /usr/local/lib/python3.6/dist-packages (from smart-open>=1.2.1->gensim>=3.4.0->stellargraph) (2.21.0)\n",
            "Requirement already satisfied: boto3 in /usr/local/lib/python3.6/dist-packages (from smart-open>=1.2.1->gensim>=3.4.0->stellargraph) (1.10.7)\n",
            "Requirement already satisfied: werkzeug>=0.11.15 in /usr/local/lib/python3.6/dist-packages (from tensorboard<1.15.0,>=1.14.0->tensorflow<1.15,>=1.14->stellargraph) (0.16.0)\n",
            "Requirement already satisfied: markdown>=2.6.8 in /usr/local/lib/python3.6/dist-packages (from tensorboard<1.15.0,>=1.14.0->tensorflow<1.15,>=1.14->stellargraph) (3.1.1)\n",
            "Requirement already satisfied: h5py in /usr/local/lib/python3.6/dist-packages (from keras-applications>=1.0.6->tensorflow<1.15,>=1.14->stellargraph) (2.8.0)\n",
            "Requirement already satisfied: urllib3<1.25,>=1.21.1 in /usr/local/lib/python3.6/dist-packages (from requests->smart-open>=1.2.1->gensim>=3.4.0->stellargraph) (1.24.3)\n",
            "Requirement already satisfied: chardet<3.1.0,>=3.0.2 in /usr/local/lib/python3.6/dist-packages (from requests->smart-open>=1.2.1->gensim>=3.4.0->stellargraph) (3.0.4)\n",
            "Requirement already satisfied: idna<2.9,>=2.5 in /usr/local/lib/python3.6/dist-packages (from requests->smart-open>=1.2.1->gensim>=3.4.0->stellargraph) (2.8)\n",
            "Requirement already satisfied: certifi>=2017.4.17 in /usr/local/lib/python3.6/dist-packages (from requests->smart-open>=1.2.1->gensim>=3.4.0->stellargraph) (2019.9.11)\n",
            "Requirement already satisfied: s3transfer<0.3.0,>=0.2.0 in /usr/local/lib/python3.6/dist-packages (from boto3->smart-open>=1.2.1->gensim>=3.4.0->stellargraph) (0.2.1)\n",
            "Requirement already satisfied: jmespath<1.0.0,>=0.7.1 in /usr/local/lib/python3.6/dist-packages (from boto3->smart-open>=1.2.1->gensim>=3.4.0->stellargraph) (0.9.4)\n",
            "Requirement already satisfied: botocore<1.14.0,>=1.13.7 in /usr/local/lib/python3.6/dist-packages (from boto3->smart-open>=1.2.1->gensim>=3.4.0->stellargraph) (1.13.7)\n",
            "Requirement already satisfied: docutils<0.16,>=0.10 in /usr/local/lib/python3.6/dist-packages (from botocore<1.14.0,>=1.13.7->boto3->smart-open>=1.2.1->gensim>=3.4.0->stellargraph) (0.15.2)\n"
          ],
          "name": "stdout"
        }
      ]
    },
    {
      "cell_type": "code",
      "metadata": {
        "id": "YQVebT31jMJE",
        "colab_type": "code",
        "outputId": "0d5d98a1-2f35-4382-d5e8-a34d1dc5f990",
        "colab": {
          "base_uri": "https://localhost:8080/",
          "height": 491
        }
      },
      "source": [
        "import networkx as nx\n",
        "import pandas as pd\n",
        "import os\n",
        "\n",
        "import stellargraph as sg\n",
        "from stellargraph.mapper import GraphSAGENodeGenerator\n",
        "from stellargraph.layer import GraphSAGE\n",
        "\n",
        "from tensorflow.keras import layers, optimizers, losses, metrics, Model\n",
        "from sklearn import preprocessing, feature_extraction, model_selection"
      ],
      "execution_count": 5,
      "outputs": [
        {
          "output_type": "stream",
          "text": [
            "/usr/local/lib/python3.6/dist-packages/tensorflow/python/framework/dtypes.py:516: FutureWarning: Passing (type, 1) or '1type' as a synonym of type is deprecated; in a future version of numpy, it will be understood as (type, (1,)) / '(1,)type'.\n",
            "  _np_qint8 = np.dtype([(\"qint8\", np.int8, 1)])\n",
            "/usr/local/lib/python3.6/dist-packages/tensorflow/python/framework/dtypes.py:517: FutureWarning: Passing (type, 1) or '1type' as a synonym of type is deprecated; in a future version of numpy, it will be understood as (type, (1,)) / '(1,)type'.\n",
            "  _np_quint8 = np.dtype([(\"quint8\", np.uint8, 1)])\n",
            "/usr/local/lib/python3.6/dist-packages/tensorflow/python/framework/dtypes.py:518: FutureWarning: Passing (type, 1) or '1type' as a synonym of type is deprecated; in a future version of numpy, it will be understood as (type, (1,)) / '(1,)type'.\n",
            "  _np_qint16 = np.dtype([(\"qint16\", np.int16, 1)])\n",
            "/usr/local/lib/python3.6/dist-packages/tensorflow/python/framework/dtypes.py:519: FutureWarning: Passing (type, 1) or '1type' as a synonym of type is deprecated; in a future version of numpy, it will be understood as (type, (1,)) / '(1,)type'.\n",
            "  _np_quint16 = np.dtype([(\"quint16\", np.uint16, 1)])\n",
            "/usr/local/lib/python3.6/dist-packages/tensorflow/python/framework/dtypes.py:520: FutureWarning: Passing (type, 1) or '1type' as a synonym of type is deprecated; in a future version of numpy, it will be understood as (type, (1,)) / '(1,)type'.\n",
            "  _np_qint32 = np.dtype([(\"qint32\", np.int32, 1)])\n",
            "/usr/local/lib/python3.6/dist-packages/tensorflow/python/framework/dtypes.py:525: FutureWarning: Passing (type, 1) or '1type' as a synonym of type is deprecated; in a future version of numpy, it will be understood as (type, (1,)) / '(1,)type'.\n",
            "  np_resource = np.dtype([(\"resource\", np.ubyte, 1)])\n",
            "/usr/local/lib/python3.6/dist-packages/tensorboard/compat/tensorflow_stub/dtypes.py:541: FutureWarning: Passing (type, 1) or '1type' as a synonym of type is deprecated; in a future version of numpy, it will be understood as (type, (1,)) / '(1,)type'.\n",
            "  _np_qint8 = np.dtype([(\"qint8\", np.int8, 1)])\n",
            "/usr/local/lib/python3.6/dist-packages/tensorboard/compat/tensorflow_stub/dtypes.py:542: FutureWarning: Passing (type, 1) or '1type' as a synonym of type is deprecated; in a future version of numpy, it will be understood as (type, (1,)) / '(1,)type'.\n",
            "  _np_quint8 = np.dtype([(\"quint8\", np.uint8, 1)])\n",
            "/usr/local/lib/python3.6/dist-packages/tensorboard/compat/tensorflow_stub/dtypes.py:543: FutureWarning: Passing (type, 1) or '1type' as a synonym of type is deprecated; in a future version of numpy, it will be understood as (type, (1,)) / '(1,)type'.\n",
            "  _np_qint16 = np.dtype([(\"qint16\", np.int16, 1)])\n",
            "/usr/local/lib/python3.6/dist-packages/tensorboard/compat/tensorflow_stub/dtypes.py:544: FutureWarning: Passing (type, 1) or '1type' as a synonym of type is deprecated; in a future version of numpy, it will be understood as (type, (1,)) / '(1,)type'.\n",
            "  _np_quint16 = np.dtype([(\"quint16\", np.uint16, 1)])\n",
            "/usr/local/lib/python3.6/dist-packages/tensorboard/compat/tensorflow_stub/dtypes.py:545: FutureWarning: Passing (type, 1) or '1type' as a synonym of type is deprecated; in a future version of numpy, it will be understood as (type, (1,)) / '(1,)type'.\n",
            "  _np_qint32 = np.dtype([(\"qint32\", np.int32, 1)])\n",
            "/usr/local/lib/python3.6/dist-packages/tensorboard/compat/tensorflow_stub/dtypes.py:550: FutureWarning: Passing (type, 1) or '1type' as a synonym of type is deprecated; in a future version of numpy, it will be understood as (type, (1,)) / '(1,)type'.\n",
            "  np_resource = np.dtype([(\"resource\", np.ubyte, 1)])\n"
          ],
          "name": "stderr"
        },
        {
          "output_type": "display_data",
          "data": {
            "text/html": [
              "<p style=\"color: red;\">\n",
              "The default version of TensorFlow in Colab will soon switch to TensorFlow 2.x.<br>\n",
              "We recommend you <a href=\"https://www.tensorflow.org/guide/migrate\" target=\"_blank\">upgrade</a> now \n",
              "or ensure your notebook will continue to use TensorFlow 1.x via the <code>%tensorflow_version 1.x</code> magic:\n",
              "<a href=\"https://colab.research.google.com/notebooks/tensorflow_version.ipynb\" target=\"_blank\">more info</a>.</p>\n"
            ],
            "text/plain": [
              "<IPython.core.display.HTML object>"
            ]
          },
          "metadata": {
            "tags": []
          }
        }
      ]
    },
    {
      "cell_type": "code",
      "metadata": {
        "id": "yOsQy4k7kR_L",
        "colab_type": "code",
        "outputId": "7c09edca-ad46-40eb-9469-7752c7037d42",
        "colab": {
          "base_uri": "https://localhost:8080/",
          "height": 255
        }
      },
      "source": [
        "data_dir = os.path.expanduser(\"\")\n",
        "g_pd = pd.read_csv(\"Dam_Edge_List.csv\",delimiter = \",\")\n",
        "print(g_pd)"
      ],
      "execution_count": 6,
      "outputs": [
        {
          "output_type": "stream",
          "text": [
            "       0    1  1.0\n",
            "0      1  301  1.0\n",
            "1      2    3  1.0\n",
            "2      3  264  1.0\n",
            "3      4    5  1.0\n",
            "4      5  487  1.0\n",
            "..   ...  ...  ...\n",
            "423  509  510  1.0\n",
            "424  510  507  1.0\n",
            "425  511  411  1.0\n",
            "426  512    0  1.0\n",
            "427  512    4  1.0\n",
            "\n",
            "[428 rows x 3 columns]\n"
          ],
          "name": "stdout"
        }
      ]
    },
    {
      "cell_type": "code",
      "metadata": {
        "id": "WGD3Eqs7lj0c",
        "colab_type": "code",
        "outputId": "5d4402f3-3246-4587-81d0-08da99c35f36",
        "colab": {
          "base_uri": "https://localhost:8080/",
          "height": 34
        }
      },
      "source": [
        "#g_nx = nx.from_pandas_edgelist(g_pd,source='source', target='target',edge_attr='weight')\n",
        "\n",
        "g_nx = nx.read_edgelist(path=\"Dam_Edge_List.csv\",delimiter = \",\", nodetype=int, data=(('weight',float),),create_using=nx.DiGraph)\n",
        "\n",
        "# load the node attribute data\n",
        "#cora_data_location = os.path.expanduser(os.path.join(data_dir, \"Dam_Node_Word.csv\"))\n",
        "#node_attr = pd.read_csv(cora_data_location, sep=',', header=0)\n",
        "#values = { (row.tolist()[0]): row.tolist()[-1] for _, row in node_attr.iterrows()}\n",
        "#nx.set_node_attributes(g_nx, values, 'lemma')\n",
        "\n",
        "# Select the largest connected component. For clarity we ignore isolated\n",
        "# nodes and subgraphs; having these in the data does not prevent the\n",
        "# algorithm from running and producing valid results.\n",
        "#g_nx_ccs = (g_nx.subgraph(c).copy() for c in nx.connected_components(g_nx))\n",
        "#g_nx = max(g_nx_ccs, key=len)\n",
        "print(\"Graph statistics: {} nodes, {} edges\".format(\n",
        "    g_nx.number_of_nodes(), g_nx.number_of_edges()))"
      ],
      "execution_count": 7,
      "outputs": [
        {
          "output_type": "stream",
          "text": [
            "Graph statistics: 283 nodes, 429 edges\n"
          ],
          "name": "stdout"
        }
      ]
    },
    {
      "cell_type": "code",
      "metadata": {
        "id": "SrCXDlF-y0YM",
        "colab_type": "code",
        "outputId": "3f9588d9-7f31-4eb3-9635-5a6f45feba22",
        "colab": {
          "base_uri": "https://localhost:8080/",
          "height": 190
        }
      },
      "source": [
        "from zipfile import ZipFile\n",
        "import re\n",
        "\n",
        "from sklearn.model_selection import train_test_split\n",
        " \n",
        "import spacy\n",
        "import nltk\n",
        "nltk.download('stopwords')\n",
        "from nltk.corpus import stopwords\n",
        "\n",
        "\n",
        "!python -m spacy download en_core_web_lg\n",
        "!python -m spacy link --force en_core_web_lg en\n",
        "\n",
        "nlp = spacy.load('en')\n",
        "\n",
        "stops = stopwords.words(\"english\")\n",
        "\n",
        "\n",
        "\n",
        "def normalize(comment, lowercase=True, remove_stopwords=True):\n",
        "    if lowercase:\n",
        "        comment = comment.lower()\n",
        "    comment = nlp(comment)\n",
        "    lemmatized = list()\n",
        "    for word in comment:\n",
        "        lemma = word.lemma_.strip()\n",
        "        if lemma:\n",
        "            if (not remove_stopwords or (remove_stopwords and lemma not in stops and word.pos_ not in 'PUNCT')):\n",
        "                lemmatized.append(lemma)\n",
        "    return \" \".join(lemmatized)\n",
        "\n",
        "def transform(word):\n",
        "    return nlp(word).vector"
      ],
      "execution_count": 8,
      "outputs": [
        {
          "output_type": "stream",
          "text": [
            "[nltk_data] Downloading package stopwords to /root/nltk_data...\n",
            "[nltk_data]   Package stopwords is already up-to-date!\n",
            "Requirement already satisfied: en_core_web_lg==2.1.0 from https://github.com/explosion/spacy-models/releases/download/en_core_web_lg-2.1.0/en_core_web_lg-2.1.0.tar.gz#egg=en_core_web_lg==2.1.0 in /usr/local/lib/python3.6/dist-packages (2.1.0)\n",
            "\u001b[38;5;2m✔ Download and installation successful\u001b[0m\n",
            "You can now load the model via spacy.load('en_core_web_lg')\n",
            "\u001b[38;5;2m✔ Linking successful\u001b[0m\n",
            "/usr/local/lib/python3.6/dist-packages/en_core_web_lg -->\n",
            "/usr/local/lib/python3.6/dist-packages/spacy/data/en\n",
            "You can now load the model via spacy.load('en')\n"
          ],
          "name": "stdout"
        }
      ]
    },
    {
      "cell_type": "code",
      "metadata": {
        "id": "vWYOzYehYZo7",
        "colab_type": "code",
        "outputId": "010ffd17-fd27-497f-ad06-270acc8248f3",
        "colab": {
          "base_uri": "https://localhost:8080/",
          "height": 34
        }
      },
      "source": [
        "nlp('car').vector.shape"
      ],
      "execution_count": 0,
      "outputs": [
        {
          "output_type": "execute_result",
          "data": {
            "text/plain": [
              "(300,)"
            ]
          },
          "metadata": {
            "tags": []
          },
          "execution_count": 90
        }
      ]
    },
    {
      "cell_type": "code",
      "metadata": {
        "id": "qg2KVnZQl9Hv",
        "colab_type": "code",
        "colab": {}
      },
      "source": [
        "column_names = [\"node_id\",\"lemma\",\"type\"]\n",
        "node_data = pd.read_table(os.path.join(data_dir, \"Dam_Node_Word.csv\"), delimiter = \",\", header=0, names=column_names)\n",
        "node_data['vector'] = node_data['lemma'].apply(transform)\n",
        "node_data = node_data[node_data.index.isin(list(g_nx.nodes()))]"
      ],
      "execution_count": 0,
      "outputs": []
    },
    {
      "cell_type": "code",
      "metadata": {
        "id": "38zAtwDzsJu5",
        "colab_type": "code",
        "colab": {}
      },
      "source": [
        "nx.set_node_attributes(g_nx, node_data['node_id'], 'node_id')\n",
        "nx.set_node_attributes(g_nx, node_data['type'], 'type')\n",
        "nx.set_node_attributes(g_nx, node_data['lemma'], 'lemma')\n",
        "nx.set_node_attributes(g_nx, node_data['vector'], 'vector')"
      ],
      "execution_count": 0,
      "outputs": []
    },
    {
      "cell_type": "code",
      "metadata": {
        "id": "7vWzkFeisbpE",
        "colab_type": "code",
        "colab": {
          "base_uri": "https://localhost:8080/",
          "height": 34
        },
        "outputId": "0fab76f2-8a0b-4fac-acf5-4cacc65d3b3d"
      },
      "source": [
        "print(\"Graph statistics: {} nodes, {} edges\".format(\n",
        "    g_nx.number_of_nodes(), g_nx.number_of_edges()))"
      ],
      "execution_count": 11,
      "outputs": [
        {
          "output_type": "stream",
          "text": [
            "Graph statistics: 283 nodes, 429 edges\n"
          ],
          "name": "stdout"
        }
      ]
    },
    {
      "cell_type": "code",
      "metadata": {
        "id": "eRraE4v6mUVu",
        "colab_type": "code",
        "outputId": "01d0e763-70e6-4492-98c6-96bbeae34b75",
        "colab": {
          "base_uri": "https://localhost:8080/",
          "height": 34
        }
      },
      "source": [
        "train_data, test_data = model_selection.train_test_split(node_data, train_size=0.8, test_size=None, stratify=node_data['type'], random_state=42)\n",
        "\n",
        "from collections import Counter\n",
        "Counter(train_data['type'])"
      ],
      "execution_count": 12,
      "outputs": [
        {
          "output_type": "execute_result",
          "data": {
            "text/plain": [
              "Counter({'none': 24, 'object': 4, 'risk': 5, 'susc': 9})"
            ]
          },
          "metadata": {
            "tags": []
          },
          "execution_count": 12
        }
      ]
    },
    {
      "cell_type": "code",
      "metadata": {
        "id": "F5LSfOQamdfE",
        "colab_type": "code",
        "colab": {}
      },
      "source": [
        "target_encoding = feature_extraction.DictVectorizer(sparse=False)\n",
        "\n",
        "train_targets = target_encoding.fit_transform(train_data[[\"type\"]].to_dict('records'))\n",
        "test_targets = target_encoding.transform(test_data[[\"type\"]].to_dict('records'))"
      ],
      "execution_count": 0,
      "outputs": []
    },
    {
      "cell_type": "code",
      "metadata": {
        "id": "sSn9PZyqmhL9",
        "colab_type": "code",
        "colab": {
          "base_uri": "https://localhost:8080/",
          "height": 34
        },
        "outputId": "340ac5ed-b7f8-4b0d-b8fd-58878667534c"
      },
      "source": [
        "G = sg.StellarDiGraph(g_nx, node_features=\"vector\")"
      ],
      "execution_count": 14,
      "outputs": [
        {
          "output_type": "stream",
          "text": [
            "Warning: Some nodes have no value for attribute 'vector', using default value.\n"
          ],
          "name": "stdout"
        }
      ]
    },
    {
      "cell_type": "code",
      "metadata": {
        "id": "C66ke8cnmhRW",
        "colab_type": "code",
        "outputId": "205e88f6-3669-40f4-bb1e-82e2617a3640",
        "colab": {
          "base_uri": "https://localhost:8080/",
          "height": 221
        }
      },
      "source": [
        "print(G.info())"
      ],
      "execution_count": 15,
      "outputs": [
        {
          "output_type": "stream",
          "text": [
            "StellarDiGraph: Directed multigraph\n",
            " Nodes: 283, Edges: 429\n",
            "\n",
            " Node types:\n",
            "  default: [283]\n",
            "        Attributes: {'lemma', 'vector', 'type', 'node_id'}\n",
            "    Edge types: default-default->default\n",
            "\n",
            " Edge types:\n",
            "    default-default->default: [429]\n",
            "        Attributes: {'weight'}\n",
            "\n"
          ],
          "name": "stdout"
        }
      ]
    },
    {
      "cell_type": "code",
      "metadata": {
        "id": "saKSc_comhPK",
        "colab_type": "code",
        "colab": {}
      },
      "source": [
        "batch_size = 50; num_samples = [10, 10]"
      ],
      "execution_count": 0,
      "outputs": []
    },
    {
      "cell_type": "code",
      "metadata": {
        "id": "IWPX3L4omwQD",
        "colab_type": "code",
        "colab": {}
      },
      "source": [
        "generator = GraphSAGENodeGenerator(G, batch_size, num_samples)"
      ],
      "execution_count": 0,
      "outputs": []
    },
    {
      "cell_type": "code",
      "metadata": {
        "id": "D4kouZXsmwTB",
        "colab_type": "code",
        "colab": {}
      },
      "source": [
        "train_gen = generator.flow(train_data.index, train_targets)"
      ],
      "execution_count": 0,
      "outputs": []
    },
    {
      "cell_type": "code",
      "metadata": {
        "id": "hQnUA6xemwWD",
        "colab_type": "code",
        "colab": {}
      },
      "source": [
        "graphsage_model = GraphSAGE(\n",
        "    layer_sizes=[64, 64],\n",
        "    generator=train_gen,\n",
        "    bias=True,\n",
        "    dropout=0.5,\n",
        ")"
      ],
      "execution_count": 0,
      "outputs": []
    },
    {
      "cell_type": "code",
      "metadata": {
        "id": "Dw2u8PAhm9C5",
        "colab_type": "code",
        "colab": {}
      },
      "source": [
        "x_inp, x_out = graphsage_model.default_model(flatten_output=True)\n",
        "prediction = layers.Dense(units=train_targets.shape[1], activation=\"softmax\")(x_out)"
      ],
      "execution_count": 0,
      "outputs": []
    },
    {
      "cell_type": "code",
      "metadata": {
        "id": "WT7xapQCm9HL",
        "colab_type": "code",
        "outputId": "5bb9ea20-564b-42f9-aaf9-e3964267db0e",
        "colab": {
          "base_uri": "https://localhost:8080/",
          "height": 34
        }
      },
      "source": [
        "prediction.shape"
      ],
      "execution_count": 29,
      "outputs": [
        {
          "output_type": "execute_result",
          "data": {
            "text/plain": [
              "TensorShape([Dimension(None), Dimension(4)])"
            ]
          },
          "metadata": {
            "tags": []
          },
          "execution_count": 29
        }
      ]
    },
    {
      "cell_type": "code",
      "metadata": {
        "id": "7B5d0Macm9KV",
        "colab_type": "code",
        "colab": {}
      },
      "source": [
        "model = Model(inputs=x_inp, outputs=prediction)\n",
        "model.compile(\n",
        "    optimizer=optimizers.Adam(lr=0.005),\n",
        "    loss=losses.categorical_crossentropy,\n",
        "    metrics=[\"acc\"],\n",
        ")"
      ],
      "execution_count": 0,
      "outputs": []
    },
    {
      "cell_type": "code",
      "metadata": {
        "id": "kwYn5qzvm9Pf",
        "colab_type": "code",
        "colab": {}
      },
      "source": [
        "test_gen = generator.flow(test_data.index, test_targets)"
      ],
      "execution_count": 0,
      "outputs": []
    },
    {
      "cell_type": "code",
      "metadata": {
        "id": "NFeGzZ_bm9Nr",
        "colab_type": "code",
        "outputId": "a9ee019c-37c6-4027-eff3-552855709b7d",
        "colab": {
          "base_uri": "https://localhost:8080/",
          "height": 1000
        }
      },
      "source": [
        "history = model.fit_generator(\n",
        "    train_gen,\n",
        "    epochs=50,\n",
        "    validation_data=test_gen,\n",
        "    verbose=2,\n",
        "    shuffle=True,\n",
        ")"
      ],
      "execution_count": 32,
      "outputs": [
        {
          "output_type": "stream",
          "text": [
            "Epoch 1/50\n",
            "1/1 - 1s - loss: 1.3920 - acc: 0.3333 - val_loss: 1.2787 - val_acc: 0.6364\n",
            "Epoch 2/50\n",
            "1/1 - 0s - loss: 1.2990 - acc: 0.5238 - val_loss: 1.2140 - val_acc: 0.6364\n",
            "Epoch 3/50\n",
            "1/1 - 0s - loss: 1.1970 - acc: 0.5476 - val_loss: 1.1731 - val_acc: 0.6364\n",
            "Epoch 4/50\n",
            "1/1 - 0s - loss: 1.1550 - acc: 0.5476 - val_loss: 1.1305 - val_acc: 0.6364\n",
            "Epoch 5/50\n",
            "1/1 - 0s - loss: 1.1282 - acc: 0.5714 - val_loss: 1.1094 - val_acc: 0.6364\n",
            "Epoch 6/50\n",
            "1/1 - 0s - loss: 1.0719 - acc: 0.5952 - val_loss: 1.0915 - val_acc: 0.6364\n",
            "Epoch 7/50\n",
            "1/1 - 0s - loss: 1.0435 - acc: 0.5714 - val_loss: 1.0782 - val_acc: 0.6364\n",
            "Epoch 8/50\n",
            "1/1 - 0s - loss: 1.0238 - acc: 0.5714 - val_loss: 1.0746 - val_acc: 0.6364\n",
            "Epoch 9/50\n",
            "1/1 - 0s - loss: 1.0034 - acc: 0.5714 - val_loss: 1.0646 - val_acc: 0.6364\n",
            "Epoch 10/50\n",
            "1/1 - 0s - loss: 0.9796 - acc: 0.5714 - val_loss: 1.0594 - val_acc: 0.6364\n",
            "Epoch 11/50\n",
            "1/1 - 0s - loss: 0.9653 - acc: 0.5714 - val_loss: 1.0565 - val_acc: 0.6364\n",
            "Epoch 12/50\n",
            "1/1 - 0s - loss: 0.9358 - acc: 0.6190 - val_loss: 1.0575 - val_acc: 0.6364\n",
            "Epoch 13/50\n",
            "1/1 - 0s - loss: 0.9288 - acc: 0.5952 - val_loss: 1.0542 - val_acc: 0.6364\n",
            "Epoch 14/50\n",
            "1/1 - 0s - loss: 0.8906 - acc: 0.6190 - val_loss: 1.0526 - val_acc: 0.6364\n",
            "Epoch 15/50\n",
            "1/1 - 0s - loss: 0.8506 - acc: 0.6905 - val_loss: 1.0533 - val_acc: 0.6364\n",
            "Epoch 16/50\n",
            "1/1 - 0s - loss: 0.8472 - acc: 0.6905 - val_loss: 1.0535 - val_acc: 0.6364\n",
            "Epoch 17/50\n",
            "1/1 - 0s - loss: 0.8573 - acc: 0.6905 - val_loss: 1.0522 - val_acc: 0.6364\n",
            "Epoch 18/50\n",
            "1/1 - 0s - loss: 0.7975 - acc: 0.7381 - val_loss: 1.0498 - val_acc: 0.6364\n",
            "Epoch 19/50\n",
            "1/1 - 0s - loss: 0.7594 - acc: 0.7619 - val_loss: 1.0543 - val_acc: 0.6364\n",
            "Epoch 20/50\n",
            "1/1 - 0s - loss: 0.7696 - acc: 0.7619 - val_loss: 1.0537 - val_acc: 0.6364\n",
            "Epoch 21/50\n",
            "1/1 - 0s - loss: 0.7222 - acc: 0.7619 - val_loss: 1.0550 - val_acc: 0.6364\n",
            "Epoch 22/50\n",
            "1/1 - 0s - loss: 0.6833 - acc: 0.8333 - val_loss: 1.0574 - val_acc: 0.6364\n",
            "Epoch 23/50\n",
            "1/1 - 0s - loss: 0.6795 - acc: 0.7381 - val_loss: 1.0575 - val_acc: 0.6364\n",
            "Epoch 24/50\n",
            "1/1 - 0s - loss: 0.6372 - acc: 0.8810 - val_loss: 1.0663 - val_acc: 0.6364\n",
            "Epoch 25/50\n",
            "1/1 - 0s - loss: 0.6179 - acc: 0.9048 - val_loss: 1.0722 - val_acc: 0.6364\n",
            "Epoch 26/50\n",
            "1/1 - 0s - loss: 0.6050 - acc: 0.8571 - val_loss: 1.0760 - val_acc: 0.6364\n",
            "Epoch 27/50\n",
            "1/1 - 0s - loss: 0.5433 - acc: 0.9286 - val_loss: 1.0829 - val_acc: 0.6364\n",
            "Epoch 28/50\n",
            "1/1 - 0s - loss: 0.5619 - acc: 0.8571 - val_loss: 1.0962 - val_acc: 0.6364\n",
            "Epoch 29/50\n",
            "1/1 - 0s - loss: 0.5255 - acc: 0.9524 - val_loss: 1.0959 - val_acc: 0.6364\n",
            "Epoch 30/50\n",
            "1/1 - 0s - loss: 0.5447 - acc: 0.9048 - val_loss: 1.1087 - val_acc: 0.6364\n",
            "Epoch 31/50\n",
            "1/1 - 0s - loss: 0.4885 - acc: 0.9286 - val_loss: 1.1110 - val_acc: 0.6364\n",
            "Epoch 32/50\n",
            "1/1 - 0s - loss: 0.4675 - acc: 0.9762 - val_loss: 1.1261 - val_acc: 0.6364\n",
            "Epoch 33/50\n",
            "1/1 - 0s - loss: 0.4533 - acc: 0.9524 - val_loss: 1.1329 - val_acc: 0.6364\n",
            "Epoch 34/50\n",
            "1/1 - 0s - loss: 0.4116 - acc: 0.9524 - val_loss: 1.1395 - val_acc: 0.6364\n",
            "Epoch 35/50\n",
            "1/1 - 0s - loss: 0.4163 - acc: 0.9524 - val_loss: 1.1474 - val_acc: 0.5455\n",
            "Epoch 36/50\n",
            "1/1 - 0s - loss: 0.3902 - acc: 0.9762 - val_loss: 1.1622 - val_acc: 0.5455\n",
            "Epoch 37/50\n",
            "1/1 - 0s - loss: 0.3840 - acc: 0.9524 - val_loss: 1.1645 - val_acc: 0.5455\n",
            "Epoch 38/50\n",
            "1/1 - 0s - loss: 0.3771 - acc: 0.9524 - val_loss: 1.1639 - val_acc: 0.5455\n",
            "Epoch 39/50\n",
            "1/1 - 0s - loss: 0.3557 - acc: 0.9762 - val_loss: 1.1792 - val_acc: 0.5455\n",
            "Epoch 40/50\n",
            "1/1 - 0s - loss: 0.3798 - acc: 0.9762 - val_loss: 1.1891 - val_acc: 0.5455\n",
            "Epoch 41/50\n",
            "1/1 - 0s - loss: 0.3347 - acc: 0.9762 - val_loss: 1.1944 - val_acc: 0.5455\n",
            "Epoch 42/50\n",
            "1/1 - 0s - loss: 0.2966 - acc: 0.9762 - val_loss: 1.2004 - val_acc: 0.5455\n",
            "Epoch 43/50\n",
            "1/1 - 0s - loss: 0.3117 - acc: 0.9762 - val_loss: 1.2174 - val_acc: 0.5455\n",
            "Epoch 44/50\n",
            "1/1 - 0s - loss: 0.2974 - acc: 0.9762 - val_loss: 1.2121 - val_acc: 0.5455\n",
            "Epoch 45/50\n",
            "1/1 - 0s - loss: 0.2923 - acc: 0.9524 - val_loss: 1.2167 - val_acc: 0.5455\n",
            "Epoch 46/50\n",
            "1/1 - 0s - loss: 0.2977 - acc: 0.9762 - val_loss: 1.2258 - val_acc: 0.5455\n",
            "Epoch 47/50\n",
            "1/1 - 0s - loss: 0.2681 - acc: 1.0000 - val_loss: 1.2318 - val_acc: 0.5455\n",
            "Epoch 48/50\n",
            "1/1 - 0s - loss: 0.2512 - acc: 0.9762 - val_loss: 1.2380 - val_acc: 0.5455\n",
            "Epoch 49/50\n",
            "1/1 - 0s - loss: 0.2410 - acc: 0.9762 - val_loss: 1.2530 - val_acc: 0.5455\n",
            "Epoch 50/50\n",
            "1/1 - 0s - loss: 0.2333 - acc: 0.9762 - val_loss: 1.2576 - val_acc: 0.5455\n"
          ],
          "name": "stdout"
        }
      ]
    },
    {
      "cell_type": "code",
      "metadata": {
        "id": "iDL9CZiPnHjp",
        "colab_type": "code",
        "colab": {}
      },
      "source": [
        "import matplotlib.pyplot as plt\n",
        "%matplotlib inline\n",
        "\n",
        "def plot_history(history):\n",
        "    metrics = sorted(history.history.keys())\n",
        "    metrics = metrics[:len(metrics)//2]\n",
        "    for m in metrics:\n",
        "        # summarize history for metric m\n",
        "        plt.plot(history.history[m])\n",
        "        plt.plot(history.history['val_' + m])\n",
        "        plt.title(m)\n",
        "        plt.ylabel(m)\n",
        "        plt.xlabel('epoch')\n",
        "        plt.legend(['train', 'test'], loc='upper right')\n",
        "        plt.show()"
      ],
      "execution_count": 0,
      "outputs": []
    },
    {
      "cell_type": "code",
      "metadata": {
        "id": "yNTocafbnHpI",
        "colab_type": "code",
        "outputId": "0172eca8-ba68-46a0-86de-55812154ea6d",
        "colab": {
          "base_uri": "https://localhost:8080/",
          "height": 573
        }
      },
      "source": [
        "plot_history(history)"
      ],
      "execution_count": 34,
      "outputs": [
        {
          "output_type": "display_data",
          "data": {
            "image/png": "[encoded data removed]",
            "text/plain": [
              "<Figure size 432x288 with 1 Axes>"
            ]
          },
          "metadata": {
            "tags": []
          }
        },
        {
          "output_type": "display_data",
          "data": {
            "image/png": "[encoded data removed]",
            "text/plain": [
              "<Figure size 432x288 with 1 Axes>"
            ]
          },
          "metadata": {
            "tags": []
          }
        }
      ]
    },
    {
      "cell_type": "code",
      "metadata": {
        "id": "gPPPaZLxnHnH",
        "colab_type": "code",
        "outputId": "dae67ec9-5d6d-40f4-8e86-4dbdf8d68cca",
        "colab": {
          "base_uri": "https://localhost:8080/",
          "height": 85
        }
      },
      "source": [
        "test_metrics = model.evaluate_generator(test_gen)\n",
        "print(\"\\nTest Set Metrics:\")\n",
        "for name, val in zip(model.metrics_names, test_metrics):\n",
        "    print(\"\\t{}: {:0.4f}\".format(name, val))"
      ],
      "execution_count": 166,
      "outputs": [
        {
          "output_type": "stream",
          "text": [
            "\n",
            "Test Set Metrics:\n",
            "\tloss: 1.0503\n",
            "\tacc: 0.6042\n"
          ],
          "name": "stdout"
        }
      ]
    },
    {
      "cell_type": "code",
      "metadata": {
        "id": "mBKKKNzSnUgR",
        "colab_type": "code",
        "colab": {
          "base_uri": "https://localhost:8080/",
          "height": 341
        },
        "outputId": "d2477df9-936f-43f9-f598-91e03e526b58"
      },
      "source": [
        "all_nodes = node_data.index\n",
        "all_mapper = generator.flow(all_nodes)\n",
        "all_predictions = model.predict_generator(all_mapper)"
      ],
      "execution_count": 167,
      "outputs": [
        {
          "output_type": "error",
          "ename": "KeyError",
          "evalue": "ignored",
          "traceback": [
            "\u001b[0;31m---------------------------------------------------------------------------\u001b[0m",
            "\u001b[0;31mKeyError\u001b[0m                                  Traceback (most recent call last)",
            "\u001b[0;32m<ipython-input-167-4e4e61a6f04b>\u001b[0m in \u001b[0;36m<module>\u001b[0;34m()\u001b[0m\n\u001b[1;32m      1\u001b[0m \u001b[0mall_nodes\u001b[0m \u001b[0;34m=\u001b[0m \u001b[0mnode_data\u001b[0m\u001b[0;34m.\u001b[0m\u001b[0mindex\u001b[0m\u001b[0;34m\u001b[0m\u001b[0;34m\u001b[0m\u001b[0m\n\u001b[0;32m----> 2\u001b[0;31m \u001b[0mall_mapper\u001b[0m \u001b[0;34m=\u001b[0m \u001b[0mgenerator\u001b[0m\u001b[0;34m.\u001b[0m\u001b[0mflow\u001b[0m\u001b[0;34m(\u001b[0m\u001b[0mall_nodes\u001b[0m\u001b[0;34m)\u001b[0m\u001b[0;34m\u001b[0m\u001b[0;34m\u001b[0m\u001b[0m\n\u001b[0m\u001b[1;32m      3\u001b[0m \u001b[0mall_predictions\u001b[0m \u001b[0;34m=\u001b[0m \u001b[0mmodel\u001b[0m\u001b[0;34m.\u001b[0m\u001b[0mpredict_generator\u001b[0m\u001b[0;34m(\u001b[0m\u001b[0mall_mapper\u001b[0m\u001b[0;34m)\u001b[0m\u001b[0;34m\u001b[0m\u001b[0;34m\u001b[0m\u001b[0m\n",
            "\u001b[0;32m/usr/local/lib/python3.6/dist-packages/stellargraph/mapper/node_mappers.py\u001b[0m in \u001b[0;36mflow\u001b[0;34m(self, node_ids, targets, shuffle)\u001b[0m\n\u001b[1;32m    348\u001b[0m \u001b[0;34m\u001b[0m\u001b[0m\n\u001b[1;32m    349\u001b[0m         \"\"\"\n\u001b[0;32m--> 350\u001b[0;31m         \u001b[0;32mreturn\u001b[0m \u001b[0mNodeSequence\u001b[0m\u001b[0;34m(\u001b[0m\u001b[0mself\u001b[0m\u001b[0;34m,\u001b[0m \u001b[0mnode_ids\u001b[0m\u001b[0;34m,\u001b[0m \u001b[0mtargets\u001b[0m\u001b[0;34m,\u001b[0m \u001b[0mshuffle\u001b[0m\u001b[0;34m=\u001b[0m\u001b[0mshuffle\u001b[0m\u001b[0;34m)\u001b[0m\u001b[0;34m\u001b[0m\u001b[0;34m\u001b[0m\u001b[0m\n\u001b[0m\u001b[1;32m    351\u001b[0m \u001b[0;34m\u001b[0m\u001b[0m\n\u001b[1;32m    352\u001b[0m     \u001b[0;32mdef\u001b[0m \u001b[0mflow_from_dataframe\u001b[0m\u001b[0;34m(\u001b[0m\u001b[0mself\u001b[0m\u001b[0;34m,\u001b[0m \u001b[0mnode_targets\u001b[0m\u001b[0;34m,\u001b[0m \u001b[0mshuffle\u001b[0m\u001b[0;34m=\u001b[0m\u001b[0;32mFalse\u001b[0m\u001b[0;34m)\u001b[0m\u001b[0;34m:\u001b[0m\u001b[0;34m\u001b[0m\u001b[0;34m\u001b[0m\u001b[0m\n",
            "\u001b[0;32m/usr/local/lib/python3.6/dist-packages/stellargraph/mapper/node_mappers.py\u001b[0m in \u001b[0;36m__init__\u001b[0;34m(self, generator, ids, targets, shuffle)\u001b[0m\n\u001b[1;32m    105\u001b[0m         \u001b[0;32mif\u001b[0m \u001b[0many\u001b[0m\u001b[0;34m(\u001b[0m\u001b[0mn\u001b[0m \u001b[0;32mnot\u001b[0m \u001b[0;32min\u001b[0m \u001b[0mgenerator\u001b[0m\u001b[0;34m.\u001b[0m\u001b[0mgraph\u001b[0m \u001b[0;32mfor\u001b[0m \u001b[0mn\u001b[0m \u001b[0;32min\u001b[0m \u001b[0mids\u001b[0m\u001b[0;34m)\u001b[0m\u001b[0;34m:\u001b[0m\u001b[0;34m\u001b[0m\u001b[0;34m\u001b[0m\u001b[0m\n\u001b[1;32m    106\u001b[0m             raise KeyError(\n\u001b[0;32m--> 107\u001b[0;31m                 \u001b[0;34m\"Head nodes supplied to generator contain IDs not found in graph\"\u001b[0m\u001b[0;34m\u001b[0m\u001b[0;34m\u001b[0m\u001b[0m\n\u001b[0m\u001b[1;32m    108\u001b[0m             )\n\u001b[1;32m    109\u001b[0m \u001b[0;34m\u001b[0m\u001b[0m\n",
            "\u001b[0;31mKeyError\u001b[0m: 'Head nodes supplied to generator contain IDs not found in graph'"
          ]
        }
      ]
    },
    {
      "cell_type": "code",
      "metadata": {
        "id": "tk57r20KnUme",
        "colab_type": "code",
        "colab": {}
      },
      "source": [
        "node_predictions = target_encoding.inverse_transform(all_predictions)"
      ],
      "execution_count": 0,
      "outputs": []
    },
    {
      "cell_type": "code",
      "metadata": {
        "id": "VLyKWrLwnUsk",
        "colab_type": "code",
        "outputId": "df00517b-0db3-4284-fc41-bee7d72e89d8",
        "colab": {
          "base_uri": "https://localhost:8080/",
          "height": 359
        }
      },
      "source": [
        "results = pd.DataFrame(node_predictions, index=all_nodes).idxmax(axis=1)\n",
        "df = pd.DataFrame({\"Predicted\": results, \"True\": node_data['subject']})\n",
        "df.head(10)"
      ],
      "execution_count": 0,
      "outputs": [
        {
          "output_type": "execute_result",
          "data": {
            "text/html": [
              "<div>\n",
              "<style scoped>\n",
              "    .dataframe tbody tr th:only-of-type {\n",
              "        vertical-align: middle;\n",
              "    }\n",
              "\n",
              "    .dataframe tbody tr th {\n",
              "        vertical-align: top;\n",
              "    }\n",
              "\n",
              "    .dataframe thead th {\n",
              "        text-align: right;\n",
              "    }\n",
              "</style>\n",
              "<table border=\"1\" class=\"dataframe\">\n",
              "  <thead>\n",
              "    <tr style=\"text-align: right;\">\n",
              "      <th></th>\n",
              "      <th>Predicted</th>\n",
              "      <th>True</th>\n",
              "    </tr>\n",
              "  </thead>\n",
              "  <tbody>\n",
              "    <tr>\n",
              "      <th>31336</th>\n",
              "      <td>subject=Theory</td>\n",
              "      <td>Neural_Networks</td>\n",
              "    </tr>\n",
              "    <tr>\n",
              "      <th>1061127</th>\n",
              "      <td>subject=Rule_Learning</td>\n",
              "      <td>Rule_Learning</td>\n",
              "    </tr>\n",
              "    <tr>\n",
              "      <th>1106406</th>\n",
              "      <td>subject=Reinforcement_Learning</td>\n",
              "      <td>Reinforcement_Learning</td>\n",
              "    </tr>\n",
              "    <tr>\n",
              "      <th>13195</th>\n",
              "      <td>subject=Reinforcement_Learning</td>\n",
              "      <td>Reinforcement_Learning</td>\n",
              "    </tr>\n",
              "    <tr>\n",
              "      <th>37879</th>\n",
              "      <td>subject=Probabilistic_Methods</td>\n",
              "      <td>Probabilistic_Methods</td>\n",
              "    </tr>\n",
              "    <tr>\n",
              "      <th>1126012</th>\n",
              "      <td>subject=Probabilistic_Methods</td>\n",
              "      <td>Probabilistic_Methods</td>\n",
              "    </tr>\n",
              "    <tr>\n",
              "      <th>1107140</th>\n",
              "      <td>subject=Theory</td>\n",
              "      <td>Theory</td>\n",
              "    </tr>\n",
              "    <tr>\n",
              "      <th>1102850</th>\n",
              "      <td>subject=Theory</td>\n",
              "      <td>Neural_Networks</td>\n",
              "    </tr>\n",
              "    <tr>\n",
              "      <th>31349</th>\n",
              "      <td>subject=Theory</td>\n",
              "      <td>Neural_Networks</td>\n",
              "    </tr>\n",
              "    <tr>\n",
              "      <th>1106418</th>\n",
              "      <td>subject=Theory</td>\n",
              "      <td>Theory</td>\n",
              "    </tr>\n",
              "  </tbody>\n",
              "</table>\n",
              "</div>"
            ],
            "text/plain": [
              "                              Predicted                    True\n",
              "31336                    subject=Theory         Neural_Networks\n",
              "1061127           subject=Rule_Learning           Rule_Learning\n",
              "1106406  subject=Reinforcement_Learning  Reinforcement_Learning\n",
              "13195    subject=Reinforcement_Learning  Reinforcement_Learning\n",
              "37879     subject=Probabilistic_Methods   Probabilistic_Methods\n",
              "1126012   subject=Probabilistic_Methods   Probabilistic_Methods\n",
              "1107140                  subject=Theory                  Theory\n",
              "1102850                  subject=Theory         Neural_Networks\n",
              "31349                    subject=Theory         Neural_Networks\n",
              "1106418                  subject=Theory                  Theory"
            ]
          },
          "metadata": {
            "tags": []
          },
          "execution_count": 53
        }
      ]
    },
    {
      "cell_type": "code",
      "metadata": {
        "id": "jsEws_e6nUqs",
        "colab_type": "code",
        "colab": {}
      },
      "source": [
        ""
      ],
      "execution_count": 0,
      "outputs": []
    },
    {
      "cell_type": "code",
      "metadata": {
        "id": "SXcMWF7PnUkj",
        "colab_type": "code",
        "colab": {}
      },
      "source": [
        ""
      ],
      "execution_count": 0,
      "outputs": []
    }
  ]
}